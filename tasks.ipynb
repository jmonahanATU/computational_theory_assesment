{
 "cells": [
  {
   "cell_type": "markdown",
   "metadata": {},
   "source": [
    "# Computational Theory Tasks"
   ]
  },
  {
   "cell_type": "markdown",
   "metadata": {},
   "source": [
    "## Task 1: Binary Representations"
   ]
  },
  {
   "cell_type": "markdown",
   "metadata": {},
   "source": [
    "## Rotl(Rotate left) function"
   ]
  },
  {
   "cell_type": "code",
   "execution_count": 118,
   "metadata": {},
   "outputs": [],
   "source": [
    "import unittest"
   ]
  },
  {
   "cell_type": "code",
<<<<<<< HEAD
<<<<<<< HEAD
<<<<<<< HEAD

   "execution_count": 391,

=======
   "execution_count": 30,
>>>>>>> 835aa5f (add output for first n primes calculation in tasks notebook)
=======
   "execution_count": 58,
>>>>>>> cc4ed56 (Add function to extract fractional bits from a number and update execution counts)
=======
   "execution_count": 119,
>>>>>>> 0820c7b (Add function to calculate factorial and update execution counts)
   "metadata": {},
   "outputs": [],
   "source": [
    "#Ensure x is a 32-bit integer\n",
    "def rotl(x, n=1):\n",
    "    x = x & 0xFFFFFFFF # 0xFFFFFFFF = 11111111111111111111111111111111 (32 bits)\n",
    "\n",
    "    # Normalize n to be within 0-31 range\n",
    "    n = n % 32  # % 32 is the modulus (remainder) operator, which ensures a number stays within the range of 0 to 31.\n",
    "    \n",
    "    # Perform the rotation:\n",
    "    # 1. Shift left by n\n",
    "    # 2. Shift right by (32-n) to get wrapped bits\n",
    "    # 3. Combine using OR\n",
    "    left = (x << n) & 0xFFFFFFFF\n",
    "    right = (x >> (32 - n)) & 0xFFFFFFFF\n",
    "    \n",
    "    return left | right\n",
    "#Combine the left and right shifted values using bitwise OR (|).\n",
    "#This ensures that any bits that \"overflowed\" on the left side during the left shift\n",
    "#are correctly wrapped around to the right side.\n",
    "\n",
    "\n"
   ]
  },
  {
   "cell_type": "code",
   "execution_count": 120,
   "metadata": {},
   "outputs": [],
   "source": [
    "#Test cases:\n",
    "class TestRotl(unittest.TestCase):\n",
    "    def test_basic_rotation(self):\n",
    "        #Test rotating 1 by 1 position\n",
    "        #Binary: 00000000000000000000000000000001 -> 00000000000000000000000000000010\n",
    "        self.assertEqual(rotl(1, 1), 2)\n",
    "    \n",
    "    def test_multiple_positions(self):\n",
    "        #Test rotating 1 by 2 positions\n",
    "        #Binary: 00000000000000000000000000000001 -> 00000000000000000000000000000100\n",
    "        self.assertEqual(rotl(1, 2), 4)\n",
    "    \n",
    "    def test_wrap_around(self):\n",
    "        #Test rotating when bits need to wrap around\n",
    "        #Binary: 10000000000000000000000000000000 -> 00000000000000000000000000000001\n",
    "        self.assertEqual(rotl(0x80000000, 1), 1)\n",
    "    \n",
    "    def test_default_parameter(self):\n",
    "        #Test the default n=1 parameter\n",
    "        self.assertEqual(rotl(1), 2)\n",
    "\n"
   ]
  },
  {
   "cell_type": "code",
   "execution_count": 121,
   "metadata": {},
   "outputs": [
    {
     "name": "stderr",
     "output_type": "stream",
     "text": [
      "............\n",
      "----------------------------------------------------------------------\n",
      "Ran 12 tests in 0.008s\n",
      "\n",
      "OK\n"
     ]
    }
   ],
   "source": [
    "# Run the tests:\n",
    "# Run the unit tests to verify the correctness of the rotl function.\n",
    "# `unittest.main()` automatically finds and runs all test functions \n",
    "# that start with \"test_\" in the script.\n",
    "#\n",
    "# `argv=['first-arg-is-ignored']` prevents unittest from processing \n",
    "# command-line arguments (which would otherwise interfere with Jupyter or scripts).\n",
    "#\n",
    "# `exit=False` ensures that unittest does not cause the program to exit after running tests.\n",
    "if __name__ == '__main__':\n",
    "    unittest.main(argv=['first-arg-is-ignored'], exit=False)"
   ]
  },
  {
   "cell_type": "code",
   "execution_count": 122,
   "metadata": {},
   "outputs": [
    {
     "name": "stdout",
     "output_type": "stream",
     "text": [
      "Example rotations:\n",
      "Original number: 00000000000000000000000000000001\n",
      "Rotated by 1:   00000000000000000000000000000010\n",
      "Rotated by 2:   00000000000000000000000000000100\n"
     ]
    }
   ],
   "source": [
    "print(\"Example rotations:\")\n",
    "x = 0x1  # Binary representation: 00000000000000000000000000000001\n",
    "print(f\"Original number: {bin(x)[2:].zfill(32)}\")\n",
    "# Rotate left by 1 and print result\n",
    "rotated = rotl(x, 1)\n",
    "print(f\"Rotated by 1:   {bin(rotated)[2:].zfill(32)}\")\n",
    "# Rotate left by 2 and print result\n",
    "rotated = rotl(x, 2)\n",
    "print(f\"Rotated by 2:   {bin(rotated)[2:].zfill(32)}\")"
   ]
  },
  {
   "cell_type": "markdown",
   "metadata": {},
   "source": [
    "## Rotr(Rotate Right) function"
   ]
  },
  {
   "cell_type": "code",
   "execution_count": 123,
   "metadata": {},
   "outputs": [
    {
     "name": "stdout",
     "output_type": "stream",
     "text": [
      "Rotated by 1: 00100000000000000000000000000000\n"
     ]
    }
   ],
   "source": [
    "def rotr(x, n=1):\n",
    "    \"\"\"\n",
    "    This Rotates the bits in a 32-bit unsigned integer to the right by n places.\n",
    "    \n",
    "    Parameters:\n",
    "        x (int): The 32-bit unsigned integer to rotate\n",
    "        n (int): Number of positions to rotate right (default=1)\n",
    "        \n",
    "    Returns:\n",
    "        int: The rotated number\n",
    "    \"\"\"\n",
    "    #Ensure x is a 32-bit integer\n",
    "    x = x & 0xFFFFFFFF\n",
    "    \n",
    "    #Normalize n to be within 0-31 range\n",
    "    n = n % 32\n",
    "    \n",
    "    #Perform the rotation:\n",
    "    right = (x >> n) & 0xFFFFFFFF\n",
    "    left = (x << (32 - n)) & 0xFFFFFFFF\n",
    "    \n",
    "    return right | left\n",
    "\n",
    "#Test case\n",
    "rotatedr = (rotr(x, 3))    \n",
    "print(f\"Rotated by 1: {bin(rotatedr)[2:].zfill(32)}\")"
   ]
  },
  {
   "cell_type": "code",
   "execution_count": 124,
   "metadata": {},
   "outputs": [],
   "source": [
    "#Test cases:\n",
    "def test_basic_rotation():\n",
    "    # Test rotating 2 by 1 position\n",
    "    # Binary: 00000000000000000000000000000010 -> 00000000000000000000000000000001\n",
    "    assert rotr(2, 1) == 1\n",
    "\n",
    "def test_multiple_positions():\n",
    "    # Test rotating 4 by 2 positions\n",
    "    # Binary: 00000000000000000000000000000100 -> 00000000000000000000000000000001\n",
    "    assert rotr(4, 2) == 1\n",
    "\n",
    "def test_wrap_around():\n",
    "    # Test rotating when bits need to wrap around\n",
    "    # Binary: 00000000000000000000000000000001 -> 10000000000000000000000000000000\n",
    "    assert rotr(1, 31) == 0x80000000\n"
   ]
  },
  {
   "cell_type": "code",
   "execution_count": 125,
   "metadata": {},
   "outputs": [
    {
     "name": "stderr",
     "output_type": "stream",
     "text": [
      "............\n",
      "----------------------------------------------------------------------\n",
      "Ran 12 tests in 0.006s\n",
      "\n",
      "OK\n"
     ]
    }
   ],
   "source": [
    "#Run the tests:\n",
    "if __name__ == '__main__':\n",
    "    unittest.main(argv=['first-arg-is-ignored'], exit=False)"
   ]
  },
  {
   "cell_type": "code",
   "execution_count": 126,
   "metadata": {},
   "outputs": [
    {
     "name": "stdout",
     "output_type": "stream",
     "text": [
      "Example rotations:\n",
      "Original number: 00000000000000000000000000000010\n",
      "Rotated by 1:   00000000000000000000000000000001\n"
     ]
    }
   ],
   "source": [
    "#Example usage:\n",
    "print(\"Example rotations:\")\n",
    "x = 0x2  # Binary: ...00010\n",
    "print(f\"Original number: {bin(x)[2:].zfill(32)}\")\n",
    "rotated = rotr(x, 1)\n",
    "print(f\"Rotated by 1:   {bin(rotated)[2:].zfill(32)}\")"
   ]
  },
  {
   "cell_type": "markdown",
   "metadata": {},
   "source": [
    "## Choose function"
   ]
  },
  {
   "cell_type": "code",
   "execution_count": 127,
   "metadata": {},
   "outputs": [],
   "source": [
    "def ch(x, y, z):\n",
    "    \"\"\"\n",
    "\n",
    "The Core Idea: Bit Selection:\n",
    "Think of x as a control switch that decides which bits to keep from y and z.\n",
    "\n",
    "If x has a 1 in a given position → Choose the bit from y.\n",
    "If x has a 0 in a given position → Choose the bit from z.\n",
    "\n",
    "    Choose function: for each bit position, selects the bit from y if the \n",
    "    corresponding bit in x is 1, else selects the bit from z.\n",
    "    \n",
    "    Parameters:\n",
    "        x (int): The selector number\n",
    "        y (int): Number to select bits from when x has 1s\n",
    "        z (int): Number to select bits from when x has 0s\n",
    "    \"\"\"\n",
    "    x = x & 0xFFFFFFFF  # Ensure 32-bit numbers\n",
    "    y = y & 0xFFFFFFFF\n",
    "    z = z & 0xFFFFFFFF\n",
    "    \n",
    "    # Formula: (x & y) ^ (~x & z)\n",
    "    # Where & is AND, ~ is NOT, ^ is XOR\n",
    "    return ((x & y) ^ (~x & z)) & 0xFFFFFFFF"
   ]
  },
  {
   "cell_type": "code",
   "execution_count": 128,
   "metadata": {},
   "outputs": [
    {
     "name": "stderr",
     "output_type": "stream",
     "text": [
      "............\n",
      "----------------------------------------------------------------------\n",
      "Ran 12 tests in 0.005s\n",
      "\n",
      "OK\n"
     ]
    }
   ],
   "source": [
    "#Test cases:\n",
    "class TestCh(unittest.TestCase):\n",
    "    def test_basic_choice(self):\n",
    "        # If x is all 1s, result should be y\n",
    "        self.assertEqual(ch(0xFFFFFFFF, 0x5, 0x3), 0x5)\n",
    "        \n",
    "        # If x is all 0s, result should be z\n",
    "        self.assertEqual(ch(0x0, 0x5, 0x3), 0x3)\n",
    "    \n",
    "    def test_mixed_choice(self):\n",
    "        # x = 0110 (6)\n",
    "        # y = 1111 (15)\n",
    "        # z = 0000 (0)\n",
    "        # Result should be 0110 (6)\n",
    "        self.assertEqual(ch(6, 15, 0), 6)\n",
    "\n",
    "if __name__ == '__main__':\n",
    "    unittest.main(argv=['first-arg-is-ignored'], exit=False)"
   ]
  },
  {
   "cell_type": "code",
   "execution_count": 129,
   "metadata": {},
   "outputs": [
    {
     "name": "stdout",
     "output_type": "stream",
     "text": [
      "\n",
      "Example of ch function:\n",
      "x: 0110\n",
      "y: 1111\n",
      "z: 0000\n",
      "Result: 0110\n"
     ]
    }
   ],
   "source": [
    "#Example usage:\n",
    "print(\"\\nExample of ch function:\")\n",
    "x = 0x6  # Binary: 0110\n",
    "y = 0xF  # Binary: 1111\n",
    "z = 0x0  # Binary: 0000\n",
    "result = ch(x, y, z)\n",
    "print(f\"x: {bin(x)[2:].zfill(4)}\")\n",
    "print(f\"y: {bin(y)[2:].zfill(4)}\")\n",
    "print(f\"z: {bin(z)[2:].zfill(4)}\")\n",
    "print(f\"Result: {bin(result)[2:].zfill(4)}\")"
   ]
  },
  {
   "cell_type": "markdown",
   "metadata": {},
   "source": [
    "## Majority function"
   ]
  },
  {
   "cell_type": "code",
   "execution_count": 130,
   "metadata": {},
   "outputs": [
    {
     "name": "stdout",
     "output_type": "stream",
     "text": [
      "x: 0110\n",
      "y: 1111\n",
      "z: 0000\n",
      "Result: 0111\n"
     ]
    }
   ],
   "source": [
    "def maj(x, y, z):\n",
    "    \"\"\"\n",
    "    Majority function: This outputs 1 in positions where at least 2 out of 3 input bits are 1, Indicating the majority.\n",
    "    \n",
    "    Parameters:\n",
    "        x (int): First 32-bit number\n",
    "        y (int): Second 32-bit number\n",
    "        z (int): Third 32-bit number\n",
    "    \"\"\"\n",
    "    x = x & 0xFFFFFFFF  # Ensure 32-bit numbers\n",
    "    y = y & 0xFFFFFFFF\n",
    "    z = z & 0xFFFFFFFF\n",
    "    \n",
    "    # Formula: (x & y) ^ (x & z) ^ (y & z)\n",
    "    # Returns 1 if at least two inputs have 1 in that position\n",
    "    return ((x & y) ^ (x & z) ^ (y & z)) & 0xFFFFFFFF\n",
    "\n",
    "result = maj(0x6, 0x5, 0x3)\n",
    "print(f\"x: {bin(x)[2:].zfill(4)}\")\n",
    "print(f\"y: {bin(y)[2:].zfill(4)}\")\n",
    "print(f\"z: {bin(z)[2:].zfill(4)}\")\n",
    "print(f\"Result: {bin(result)[2:].zfill(4)}\")"
   ]
  },
  {
   "cell_type": "code",
   "execution_count": 131,
   "metadata": {},
   "outputs": [
    {
     "name": "stderr",
     "output_type": "stream",
     "text": [
      "............\n",
      "----------------------------------------------------------------------\n",
      "Ran 12 tests in 0.005s\n",
      "\n",
      "OK\n"
     ]
    }
   ],
   "source": [
    "#Test cases:\n",
    "class TestMaj(unittest.TestCase):\n",
    "    def test_basic_majority(self):\n",
    "        # If any two inputs are 1, output should be 1\n",
    "        self.assertEqual(maj(1, 1, 0), 1)  # Two 1s, one 0\n",
    "        self.assertEqual(maj(1, 0, 0), 0)  # One 1, two 0s\n",
    "        \n",
    "    def test_all_same(self):\n",
    "        # If all inputs are same, output should be that value\n",
    "        self.assertEqual(maj(1, 1, 1), 1)  # All 1s\n",
    "        self.assertEqual(maj(0, 0, 0), 0)  # All 0s\n",
    "    \n",
    "    def test_multiple_bits(self):\n",
    "        # Test with multiple bit positions\n",
    "        # x = 1100 (12)\n",
    "        # y = 1010 (10)\n",
    "        # z = 1001 (9)\n",
    "        # Result should be 1000 (8) - only first position has majority 1s\n",
    "        self.assertEqual(maj(12, 10, 9), 8)\n",
    "\n",
    "if __name__ == '__main__':\n",
    "    unittest.main(argv=['first-arg-is-ignored'], exit=False)"
   ]
  },
  {
   "cell_type": "code",
   "execution_count": 132,
   "metadata": {},
   "outputs": [
    {
     "name": "stdout",
     "output_type": "stream",
     "text": [
      "\n",
      "Example of maj function:\n",
      "x: 1100\n",
      "y: 1010\n",
      "z: 1001\n",
      "Result: 1000\n"
     ]
    }
   ],
   "source": [
    "#Example usage\n",
    "print(\"\\nExample of maj function:\")\n",
    "x = 0xC  #Binary: 1100\n",
    "y = 0xA  #Binary: 1010\n",
    "z = 0x9  #Binary: 1001\n",
    "result = maj(x, y, z)\n",
    "print(f\"x: {bin(x)[2:].zfill(4)}\")\n",
    "print(f\"y: {bin(y)[2:].zfill(4)}\")\n",
    "print(f\"z: {bin(z)[2:].zfill(4)}\")\n",
    "print(f\"Result: {bin(result)[2:].zfill(4)}\")"
   ]
  },
  {
   "cell_type": "markdown",
   "metadata": {},
   "source": [
    "# Task 2: Hash Functions"
   ]
  },
  {
   "cell_type": "code",
   "execution_count": 133,
   "metadata": {},
   "outputs": [],
   "source": [
    "#31\n",
    "#31 makes sure different words get different numbers.\n",
    "\n",
    "#101\n",
    "#101 keeps the final number small and spread out evenly.\n",
    "\n",
    "# `ord(char)` gets the ASCII number for each character.\n",
    "# Example: ord('c') = 99, ord('a') = 97, ord('t') = 116\n",
    "\n",
    "\n",
    "#Example Walkthrough\n",
    "#Input: \"cat\"\n",
    "#Step\tCharacter (*s)\tASCII (*s)\tCalculation\t    hashval\n",
    "#1\t      'c'\t          99        99 + 31 * 0\t      99\n",
    "#2\t      'a'\t          97\t    97 + 31 * 99\t  3166\n",
    "#3\t      't'\t          116\t    116 + 31 * 3166\t  98262\n",
    "#4\t    '\\0'(End)\t      -\t        98262 % 101\t      14"
   ]
  },
  {
   "cell_type": "code",
   "execution_count": 134,
   "metadata": {},
   "outputs": [],
   "source": [
    "def hash_string(s):\n",
    "    \"\"\"\n",
    "    Convert K&R C hash function to Python.\n",
    "    Takes a string and produces a hash value.\n",
    "    \"\"\"\n",
    "    hashval = 0\n",
    "    for char in s:\n",
    "        hashval = ord(char) + 31 * hashval\n",
    "    return hashval % 101"
   ]
  },
  {
   "cell_type": "code",
   "execution_count": 135,
   "metadata": {},
   "outputs": [
    {
     "name": "stderr",
     "output_type": "stream",
     "text": [
      "............\n",
      "----------------------------------------------------------------------\n",
      "Ran 12 tests in 0.006s\n",
      "\n",
      "OK\n"
     ]
    }
   ],
   "source": [
    "#Test cases\n",
    "class TestHashFunction(unittest.TestCase):\n",
    "    def test_basic_strings(self):\n",
    "        # Test different strings produce different hashes\n",
    "        self.assertNotEqual(hash_string(\"hello\"), hash_string(\"world\"))\n",
    "        \n",
    "    def test_empty_string(self):\n",
    "        # Test empty string\n",
    "        self.assertEqual(hash_string(\"\"), 0)\n",
    "        \n",
    "    def test_same_strings(self):\n",
    "        # Test same string produces same hash\n",
    "        self.assertEqual(hash_string(\"test\"), hash_string(\"test\"))\n",
    "\n",
    "if __name__ == '__main__':\n",
    "    unittest.main(argv=['first-arg-is-ignored'], exit=False)\n"
   ]
  },
  {
   "cell_type": "code",
   "execution_count": 136,
   "metadata": {},
   "outputs": [
    {
     "name": "stdout",
     "output_type": "stream",
     "text": [
      "Example hashes:\n",
      "Hash of 'hello': 17\n",
      "Hash of 'world': 34\n",
      "Hash of 'python': 91\n",
      "Hash of 'hash': 15\n"
     ]
    }
   ],
   "source": [
    "#Example usage\n",
    "print(\"Example hashes:\")\n",
    "test_strings = [\"hello\", \"world\", \"python\", \"hash\"]\n",
    "for s in test_strings:\n",
    "    print(f\"Hash of '{s}': {hash_string(s)}\")"
   ]
  },
  {
   "cell_type": "markdown",
   "metadata": {},
   "source": [
    "## Task 3: SHA256"
   ]
  },
  {
   "cell_type": "code",
   "execution_count": 137,
   "metadata": {},
   "outputs": [],
   "source": [
    "def calculate_sha256_padding(file_path):\n",
    "    \"\"\"\n",
    "    Calculate SHA256 padding for a given file.\n",
    "    \"\"\"\n",
    "    # Read the file content\n",
    "    with open(file_path, 'rb') as f: #The file is opened in binary mode (rb) (so no text encoding issues)\n",
    "        content = f.read()\n",
    "    \n",
    "    # Calculate original length in bits\n",
    "    original_length_bits = len(content) * 8 #len(content) gives the number of bytes in the file. Multiplying by 8 converts it to bits.\n",
    "                                            #\"abc\" is 3 bytes → 3 * 8 = 24 bits . \"hello\" (5 bytes) → 5 * 8 = 40 bits\n",
    "    \n",
    "    # Calculate padding length to align to 512 bits\n",
    "    padding_length = 512 - ((original_length_bits + 1 + 64) % 512)\n",
    "    if padding_length == 0:\n",
    "        padding_length = 512  # Always need at least one full block of padding\n",
    "    \n",
    "    \n",
    "    # Create padding\n",
    "    # First byte is 0x80 (10000000 in binary - our 1 bit followed by 7 zeros)\n",
    "    padding = bytearray([0x80])\n",
    "    \n",
    "    # Add the zero bytes - corrected to use -8\n",
    "    padding.extend([0] * ((padding_length - 8) // 8))\n",
    "    \n",
    "    # Add the original length as a 64-bit big-endian number\n",
    "    padding.extend(original_length_bits.to_bytes(8, byteorder='big'))\n",
    "    \n",
    "    # Format and print padding in hex\n",
    "    hex_padding = ' '.join(f'{b:02x}' for b in padding)\n",
    "    print('\\n'.join(' '.join(hex_padding[i:i+48].split()) \n",
    "                    for i in range(0, len(hex_padding), 48)))\n",
    "    \n",
    "    return padding"
   ]
  },
  {
   "cell_type": "code",
   "execution_count": 138,
   "metadata": {},
   "outputs": [],
   "source": [
    "\n",
    "# Test with the example from the specification\n",
    "def test_sha256_padding():\n",
    "    # Create a test file with 'abc'\n",
    "    with open('test.txt', 'wb') as f:\n",
    "        f.write(b'abc')\n",
    "    \n",
    "    print(\"Testing SHA256 padding for 'abc':\")\n",
    "    padding = calculate_sha256_padding('test.txt')\n",
    "    \n",
    "    # Verify first byte is 0x80\n",
    "    assert padding[0] == 0x80\n",
    "    \n",
    "    # Verify all middle bytes are 0\n",
    "    assert all(b == 0 for b in padding[1:-8])\n",
    "    \n",
    "    # Verify length (24 bits = 0x18) is at the end\n",
    "    assert padding[-1] == 0x18"
   ]
  },
  {
   "cell_type": "code",
   "execution_count": 139,
   "metadata": {},
   "outputs": [
    {
     "name": "stdout",
     "output_type": "stream",
     "text": [
      "Testing SHA256 padding for 'abc':\n",
      "80 00 00 00 00 00 00 00 00 00 00 00 00 00 00 00\n",
      "00 00 00 00 00 00 00 00 00 00 00 00 00 00 00 00\n",
      "00 00 00 00 00 00 00 00 00 00 00 00 00 00 00 00\n",
      "00 00 00 00 00 00 00 00 00 00 00 18\n"
     ]
    }
   ],
   "source": [
    "# Run test\n",
    "if __name__ == '__main__':\n",
    "    test_sha256_padding()"
   ]
  },
  {
   "cell_type": "code",
   "execution_count": 140,
   "metadata": {},
   "outputs": [],
   "source": [
    "import math"
   ]
  },
  {
   "cell_type": "code",
   "execution_count": 141,
   "metadata": {},
   "outputs": [
    {
     "name": "stdout",
     "output_type": "stream",
     "text": [
      "[2, 3, 5, 7, 11, 13, 17, 19, 23, 29]\n"
     ]
    }
   ],
   "source": [
    "def sieve_of_eratosthenes(n):\n",
    "    \"\"\"\n",
    "    Find prime numbers using Sieve of Eratosthenes algorithm.\n",
    "    Returns the first n prime numbers.\n",
    "    \n",
    "    :param n: Number of primes to find\n",
    "    :return: List of first n primes\n",
    "    \"\"\"\n",
    "    # Estimate an upper bound for the nth prime number. \n",
    "    # This formula gives a size slightly larger than necessary to ensure we have at least n primes.\n",
    "    size = max(2, int(n * (math.log(n) + math.log(math.log(n)))))\n",
    "\n",
    "    # Initialize all numbers as potentially prime\n",
    "    is_prime = [True] * (size + 1)\n",
    "\n",
    "    # 0 and 1 are not prime\n",
    "    is_prime[0] = is_prime[1] = False\n",
    "\n",
    "    # Loop through numbers from 2 to the square root of size\n",
    "    # We only need to check up to sqrt(size) because if a number n isn't prime,\n",
    "    # it must have a factor less than or equal to sqrt(n)\n",
    "    for i in range(2, int(math.sqrt(size)) + 1):\n",
    "        if is_prime[i]:  # If i is prime\n",
    "            # Mark all multiples of i starting from i*i as not prime\n",
    "            # We start from i*i because all smaller multiples would have been \n",
    "            # marked by smaller primes\n",
    "            for j in range(i * i, size + 1, i):  \n",
    "                is_prime[j] = False\n",
    "\n",
    "    # Collect all numbers that are still marked as prime\n",
    "    primes = [num for num in range(2, size + 1) if is_prime[num]]\n",
    "    # Return only the first n primes\n",
    "    return primes[:n]\n",
    "print(sieve_of_eratosthenes(10))\n"
   ]
  },
  {
   "cell_type": "code",
   "execution_count": 142,
   "metadata": {},
   "outputs": [
    {
     "name": "stdout",
     "output_type": "stream",
     "text": [
      "[2, 3, 5, 7, 11, 13, 17, 19, 23, 29]\n"
     ]
    }
   ],
   "source": [
    "def trial_division(n):\n",
    "    \"\"\"\n",
    "    Find prime numbers using Trial Division method.\n",
    "    Returns the first n prime numbers.\n",
    "    \n",
    "    :param n: Number of primes to find\n",
    "    :return: List of first n primes\n",
    "    \"\"\"\n",
    "    def is_prime(num):\n",
    "        # Numbers less than 2 are not prime\n",
    "        if num < 2:\n",
    "            return False\n",
    "        # 2 is the only even prime number\n",
    "        if num == 2:\n",
    "            return True\n",
    "        # Even numbers other than 2 are not prime\n",
    "        if num % 2 == 0:\n",
    "            return False\n",
    "        \n",
    "        # Check divisibility by odd numbers up to the square root of num\n",
    "        # We only need to check up to sqrt(num) because if num has a factor larger than sqrt(num),\n",
    "        # it must also have a corresponding factor smaller than sqrt(num)\n",
    "        for i in range(3, int(math.sqrt(num)) + 1, 2):\n",
    "            if num % i == 0:\n",
    "                return False\n",
    "        return True\n",
    "\n",
    "    primes = []\n",
    "    num = 2\n",
    "    while len(primes) < n:\n",
    "        # If the current number is prime, add it to the list\n",
    "        if is_prime(num):\n",
    "            primes.append(num)\n",
    "        # Move to the next number. We skip even numbers after 2 to speed up\n",
    "        num += 1 if num % 2 == 0 else 2  \n",
    "    return primes\n",
    "print(trial_division(10))"
   ]
  },
  {
   "cell_type": "code",
   "execution_count": 143,
   "metadata": {},
   "outputs": [
    {
     "name": "stdout",
     "output_type": "stream",
     "text": [
      "First 100 primes using Sieve of Eratosthenes:\n",
      "[2, 3, 5, 7, 11, 13, 17, 19, 23, 29, 31, 37, 41, 43, 47, 53, 59, 61, 67, 71, 73, 79, 83, 89, 97, 101, 103, 107, 109, 113, 127, 131, 137, 139, 149, 151, 157, 163, 167, 173, 179, 181, 191, 193, 197, 199, 211, 223, 227, 229, 233, 239, 241, 251, 257, 263, 269, 271, 277, 281, 283, 293, 307, 311, 313, 317, 331, 337, 347, 349, 353, 359, 367, 373, 379, 383, 389, 397, 401, 409, 419, 421, 431, 433, 439, 443, 449, 457, 461, 463, 467, 479, 487, 491, 499, 503, 509, 521, 523, 541]\n",
      "\n",
      "First 100 primes using Trial Division:\n",
      "[2, 3, 5, 7, 11, 13, 17, 19, 23, 29, 31, 37, 41, 43, 47, 53, 59, 61, 67, 71, 73, 79, 83, 89, 97, 101, 103, 107, 109, 113, 127, 131, 137, 139, 149, 151, 157, 163, 167, 173, 179, 181, 191, 193, 197, 199, 211, 223, 227, 229, 233, 239, 241, 251, 257, 263, 269, 271, 277, 281, 283, 293, 307, 311, 313, 317, 331, 337, 347, 349, 353, 359, 367, 373, 379, 383, 389, 397, 401, 409, 419, 421, 431, 433, 439, 443, 449, 457, 461, 463, 467, 479, 487, 491, 499, 503, 509, 521, 523, 541]\n"
     ]
    }
   ],
   "source": [
    "# Test both algorithms\n",
    "n = 100  # Get first 100 primes\n",
    "print(\"First 100 primes using Sieve of Eratosthenes:\")\n",
    "sieve_primes = sieve_of_eratosthenes(n)\n",
    "print(sieve_primes)\n",
    "\n",
    "print(\"\\nFirst 100 primes using Trial Division:\")\n",
    "trial_primes = trial_division(n)\n",
    "print(trial_primes)\n",
    "\n",
    "# Verify both algorithms give same result\n",
    "assert sieve_primes == trial_primes, \"Algorithms gave different results!\""
   ]
  },
  {
   "cell_type": "code",
   "execution_count": 144,
   "metadata": {},
   "outputs": [],
   "source": [
    "import numpy as np"
   ]
  },
  {
   "cell_type": "code",
   "execution_count": 145,
   "metadata": {},
   "outputs": [
    {
     "name": "stdout",
     "output_type": "stream",
     "text": [
      "[2, 3, 5, 7, 11, 13, 17, 19, 23, 29]\n"
     ]
    }
   ],
   "source": [
    "def get_first_n_primes(n):\n",
    "    \"\"\"\n",
    "    Get the first n prime numbers using the Sieve of Eratosthenes algorithm.\n",
    "    \n",
    "    Parameters:\n",
    "        n (int): Number of primes to find\n",
    "        \n",
    "    Returns:\n",
    "        list: First n prime numbers\n",
    "    \"\"\"\n",
    "    size = int(n * math.log(n) * 2) #Size estimation\n",
    "    is_prime = [True] * size\n",
    "    is_prime[0] = is_prime[1] = False\n",
    "\n",
    "    for i in range(2, int(size ** 0.5) + 1):\n",
    "        if is_prime[i]:\n",
    "            for j in range(i * i, size, i):\n",
    "                is_prime[j] = False\n",
    "\n",
    "    primes = []\n",
    "    i = 2\n",
    "    while len(primes) < n:\n",
    "        if is_prime[i]:\n",
    "            primes.append(i)\n",
    "        i += 1\n",
    "\n",
    "    return primes\n",
    "\n",
    "print(get_first_n_primes(10))"
   ]
  },
  {
   "cell_type": "code",
   "execution_count": 146,
   "metadata": {},
   "outputs": [
    {
     "name": "stdout",
     "output_type": "stream",
     "text": [
      "00100100\n"
     ]
    }
   ],
   "source": [
    "def get_fractional_bits(number, bits=32):\n",
    "    \"\"\"Extract the first 'bits' bits of the fractional part of a number.\"\"\"\n",
    "    frac_part = number - math.floor(number)\n",
    "\n",
    "    #Convert to binary and extract bits\n",
    "    bit_string= \"\"\n",
    "    for _ in range(bits):\n",
    "        frac_part *= 2\n",
    "        bit = int(frac_part)\n",
    "        bit_string += str(bit)\n",
    "        frac_part -= bit\n",
    "\n",
    "    return bit_string\n",
    "print(get_fractional_bits(math.pi, 8))"
   ]
  },
  {
   "cell_type": "code",
   "execution_count": null,
   "metadata": {},
   "outputs": [
    {
     "name": "stdout",
     "output_type": "stream",
     "text": [
      "First 32 bits of fractional parts of square roots of the first 100 primes:\n",
      "  1: √2   = 1.41421356   → 01101010000010011110011001100111\n",
      "  2: √3   = 1.73205081   → 10111011011001111010111010000101\n",
      "  3: √5   = 2.23606798   → 00111100011011101111001101110010\n",
      "  4: √7   = 2.64575131   → 10100101010011111111010100111010\n",
      "  5: √11  = 3.31662479   → 01010001000011100101001001111111\n",
      "  6: √13  = 3.60555128   → 10011011000001010110100010001100\n",
      "  7: √17  = 4.12310563   → 00011111100000111101100110101011\n",
      "  8: √19  = 4.35889894   → 01011011111000001100110100011001\n",
      "  9: √23  = 4.79583152   → 11001011101110111001110101011101\n",
      " 10: √29  = 5.38516481   → 01100010100110100010100100101010\n",
      " 11: √31  = 5.56776436   → 10010001010110010000000101011010\n",
      " 12: √37  = 6.08276253   → 00010101001011111110110011011000\n",
      " 13: √41  = 6.40312424   → 01100111001100110010011001100111\n",
      " 14: √43  = 6.55743852   → 10001110101101000100101010000111\n",
      " 15: √47  = 6.85565460   → 11011011000011000010111000001101\n",
      " 16: √53  = 7.28010989   → 01000111101101010100100000011101\n",
      " 17: √59  = 7.68114575   → 10101110010111111001000101010110\n",
      " 18: √61  = 7.81024968   → 11001111011011001000010111010011\n",
      " 19: √67  = 8.18535277   → 00101111011100110100011101111101\n",
      " 20: √71  = 8.42614977   → 01101101000110000010011011001010\n",
      " 21: √73  = 8.54400375   → 10001011010000111101010001010111\n",
      " 22: √79  = 8.88819442   → 11100011011000001011010110010110\n",
      " 23: √83  = 9.11043358   → 00011100010001010110000000000010\n",
      " 24: √89  = 9.43398113   → 01101111000110010110001100110001\n",
      " 25: √97  = 9.84885780   → 11011001010011101011111010110001\n",
      " 26: √101 = 10.04987562  → 00001100110001001010011000010001\n",
      " 27: √103 = 10.14889157  → 00100110000111011100000111110010\n",
      " 28: √107 = 10.34408043  → 01011000000101011010011110111110\n",
      " 29: √109 = 10.44030651  → 01110000101101111110110101100111\n",
      " 30: √113 = 10.63014581  → 10100001010100010011110001101001\n",
      " 31: √127 = 11.26942767  → 01000100111110010011011000110101\n",
      " 32: √131 = 11.44552314  → 01110010000011011100110111111101\n",
      " 33: √137 = 11.70469991  → 10110100011001110011011010011110\n",
      " 34: √139 = 11.78982612  → 11001010001100100000101101110101\n",
      " 35: √149 = 12.20655562  → 00110100111000001101010000101110\n",
      " 36: √151 = 12.28820573  → 01001001110001111101100110111101\n",
      " 37: √157 = 12.52996409  → 10000111101010111011100111110010\n",
      " 38: √163 = 12.76714533  → 11000100011000111010001011111100\n",
      " 39: √167 = 12.92284798  → 11101100001111111100001111110011\n",
      " 40: √173 = 13.15294644  → 00100111001001110111111101101101\n",
      " 41: √179 = 13.37908816  → 01100001000010111110101111110010\n",
      " 42: √181 = 13.45362405  → 01110100001000001011010010011110\n",
      " 43: √191 = 13.82027496  → 11010001111111011000101000110011\n",
      " 44: √193 = 13.89244399  → 11100100011101110011010110010100\n",
      " 45: √197 = 14.03566885  → 00001001001000011001011111110110\n",
      " 46: √199 = 14.10673598  → 00011011010100110000110010010101\n",
      " 47: √211 = 14.52583905  → 10000110100111010110001101000010\n",
      " 48: √223 = 14.93318452  → 11101110111001010010111001001111\n",
      " 49: √227 = 15.06651917  → 00010001000001110110011010001001\n",
      " 50: √229 = 15.13274595  → 00100001111110111010001101111011\n",
      " 51: √233 = 15.26433752  → 01000011101010111001111110110110\n",
      " 52: √239 = 15.45962483  → 01110101101010011111100100011101\n",
      " 53: √241 = 15.52417470  → 10000110001100000101000000011001\n",
      " 54: √251 = 15.84297952  → 11010111110011011000000101110011\n",
      " 55: √257 = 16.03121954  → 00000111111111100000000011111111\n",
      " 56: √263 = 16.21727474  → 00110111100111110101000100111111\n",
      " 57: √269 = 16.40121947  → 01100110101101100101000110101000\n",
      " 58: √271 = 16.46207763  → 01110110010010101011100001000010\n",
      " 59: √277 = 16.64331698  → 10100100101100000110101111100001\n",
      " 60: √281 = 16.76305461  → 11000011010101111000110000010101\n",
      " 61: √283 = 16.82260384  → 11010010100101100010101001010011\n",
      " 62: √293 = 17.11724277  → 00011110000000111001111101000000\n",
      " 63: √307 = 17.52141547  → 10000101011110110111101111101110\n",
      " 64: √311 = 17.63519209  → 10100010100110111111001011011110\n",
      " 65: √313 = 17.69180601  → 10110001000110100011001011101000\n",
      " 66: √317 = 17.80449381  → 11001101111100110100111010000000\n",
      " 67: √331 = 18.19340540  → 00110001100000110000010000100110\n",
      " 68: √337 = 18.35755975  → 01011011100010010000100100101011\n",
      " 69: √347 = 18.62793601  → 10100000110000000110101000010011\n",
      " 70: √349 = 18.68154169  → 10101110011110011000010000101111\n",
      " 71: √353 = 18.78829423  → 11001001110011011010011010001001\n",
      " 72: √359 = 18.94729532  → 11110010100000011111001000111001\n",
      " 73: √367 = 19.15724406  → 00101000010000010010010110010010\n",
      " 74: √373 = 19.31320792  → 01010000001011100110010011011011\n",
      " 75: √379 = 19.46792233  → 01110111110010011100001000010001\n",
      " 76: √383 = 19.57038579  → 10010010000001001100110110011101\n",
      " 77: √389 = 19.72308292  → 10111001000110111111011001100011\n",
      " 78: √397 = 19.92485885  → 11101100110000111000110010011101\n",
      " 79: √401 = 20.02498439  → 00000110011001010110000010010101\n",
      " 80: √409 = 20.22374842  → 00111001010001111001001110000001\n",
      " 81: √419 = 20.46948949  → 01111000001100000111011010010111\n",
      " 82: √421 = 20.51828453  → 10000100101011100100101101111100\n",
      " 83: √431 = 20.76053949  → 11000010101100101011011101010101\n",
      " 84: √433 = 20.80865205  → 11001111000000111101001000001110\n",
      " 85: √439 = 20.95232684  → 11110011110010111011000100010111\n",
      " 86: √443 = 21.04756518  → 00001100001011010011101101001011\n",
      " 87: √449 = 21.18962010  → 00110000100010101111000101100001\n",
      " 88: √457 = 21.37755833  → 01100000101001111010100110011000\n",
      " 89: √461 = 21.47091055  → 01111000100011011001100000010010\n",
      " 90: √463 = 21.51743479  → 10000100011101101001101101000010\n",
      " 91: √467 = 21.61018278  → 10011100001101001111000001100010\n",
      " 92: √479 = 21.88606863  → 11100010110101010110010011000100\n",
      " 93: √487 = 22.06807649  → 00010001011011010111010111111101\n",
      " 94: √491 = 22.15851981  → 00101000100101001100000100000111\n",
      " 95: √499 = 22.33830790  → 01010110100110110101100011000110\n",
      " 96: √503 = 22.42766149  → 01101101011110110011100100111001\n",
      " 97: √509 = 22.56102835  → 10001111100111111000110110111011\n",
      " 98: √521 = 22.82542442  → 11010011010011110000001111001101\n",
      " 99: √523 = 22.86919325  → 11011110100000110111001011101111\n",
      "100: √541 = 23.25940670  → 01000010011010000111101000111001\n"
     ]
    }
   ],
   "source": [
    "def compute_sqrt_fractional_bits(prime, bits=32):\n",
    "    \"\"\"Compute the square root and extract the first 'bits' bits of the fractional part.\"\"\"\n",
    "    sqrt_value = math.sqrt(prime)\n",
    "    return get_fractional_bits(sqrt_value, bits)"
   ]
  },
  {
   "cell_type": "code",
   "execution_count": null,
   "metadata": {},
   "outputs": [],
   "source": [
    "#Get the first 100 prime numbers\n",
    "primes = get_first_n_primes(100)"
   ]
  },
  {
   "cell_type": "code",
   "execution_count": null,
   "metadata": {},
   "outputs": [],
   "source": []
  },
  {
   "cell_type": "code",
   "execution_count": null,
   "metadata": {},
   "outputs": [],
   "source": []
  }
 ],
 "metadata": {
  "kernelspec": {
   "display_name": "Python 3",
   "language": "python",
   "name": "python3"
  },
  "language_info": {
   "codemirror_mode": {
    "name": "ipython",
    "version": 3
   },
   "file_extension": ".py",
   "mimetype": "text/x-python",
   "name": "python",
   "nbconvert_exporter": "python",
   "pygments_lexer": "ipython3",
   "version": "3.11.9"
  }
 },
 "nbformat": 4,
 "nbformat_minor": 2
}
