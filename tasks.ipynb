{
 "cells": [
  {
   "cell_type": "markdown",
   "metadata": {},
   "source": [
    "# Computational Theory Tasks"
   ]
  },
  {
   "cell_type": "markdown",
   "metadata": {},
   "source": [
    "## Task 1: Binary Representations"
   ]
  },
  {
   "cell_type": "code",
   "execution_count": 1,
   "metadata": {},
   "outputs": [],
   "source": [
    "import unittest"
   ]
  },
  {
   "cell_type": "code",

   "execution_count": 2,

   "metadata": {},
   "outputs": [],
   "source": [
    "# Ensure x is a 32-bit integer\n",
    "def rotl(x, n=1):\n",
    "    x = x & 0xFFFFFFFF # 0xFFFFFFFF = 11111111111111111111111111111111 (32 bits)\n",
    "\n",
    "    # Normalize n to be within 0-31 range\n",
    "    n = n % 32  # % 32 is the modulus (remainder) operator, which ensures a number stays within the range of 0 to 31.\n",
    "    \n",
    "    # Perform the rotation:\n",
    "    # 1. Shift left by n\n",
    "    # 2. Shift right by (32-n) to get wrapped bits\n",
    "    # 3. Combine using OR\n",
    "    left = (x << n) & 0xFFFFFFFF\n",
    "    right = (x >> (32 - n)) & 0xFFFFFFFF\n",
    "    \n",
    "    return left | right\n",
    "#Combine the left and right shifted values using bitwise OR (|).\n",
    "#This ensures that any bits that \"overflowed\" on the left side during the left shift\n",
    "#are correctly wrapped around to the right side.\n",
    "\n",
    "\n"
   ]
  },
  {
   "cell_type": "code",
   "execution_count": null,
   "metadata": {},
   "outputs": [],
   "source": [
    "# Test cases\n",
    "class TestRotl(unittest.TestCase):\n",
    "    def test_basic_rotation(self):\n",
    "        #Test rotating 1 by 1 position\n",
    "        #Binary: 00000000000000000000000000000001 -> 00000000000000000000000000000010\n",
    "        self.assertEqual(rotl(1, 1), 2)\n",
    "    \n",
    "    def test_multiple_positions(self):\n",
    "        #Test rotating 1 by 2 positions\n",
    "        #Binary: 00000000000000000000000000000001 -> 00000000000000000000000000000100\n",
    "        self.assertEqual(rotl(1, 2), 4)\n",
    "    \n",
    "    def test_wrap_around(self):\n",
    "        #Test rotating when bits need to wrap around\n",
    "        #Binary: 10000000000000000000000000000000 -> 00000000000000000000000000000001\n",
    "        self.assertEqual(rotl(0x80000000, 1), 1)\n",
    "    \n",
    "    def test_default_parameter(self):\n",
    "        #Test the default n=1 parameter\n",
    "        self.assertEqual(rotl(1), 2)\n",
    "\n"
   ]
  },
  {
   "cell_type": "code",
   "execution_count": null,
   "metadata": {},
   "outputs": [],
   "source": []
  }
 ],
 "metadata": {
  "kernelspec": {
   "display_name": "Python 3",
   "language": "python",
   "name": "python3"
  },
  "language_info": {
   "codemirror_mode": {
    "name": "ipython",
    "version": 3
   },
   "file_extension": ".py",
   "mimetype": "text/x-python",
   "name": "python",
   "nbconvert_exporter": "python",
   "pygments_lexer": "ipython3",
   "version": "3.11.9"
  }
 },
 "nbformat": 4,
 "nbformat_minor": 2
}
