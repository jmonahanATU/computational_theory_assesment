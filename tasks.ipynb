{
 "cells": [
  {
   "cell_type": "markdown",
   "metadata": {},
   "source": [
    "# Computational Theory Tasks"
   ]
  },
  {
   "cell_type": "markdown",
   "metadata": {},
   "source": [
    "## Task 1: Binary Representations"
   ]
  },
  {
   "cell_type": "markdown",
   "metadata": {},
   "source": [
    "## Rotl(Rotate left) function"
   ]
  },
  {
   "cell_type": "code",
   "execution_count": 390,
   "metadata": {},
   "outputs": [],
   "source": [
    "import unittest"
   ]
  },
  {
   "cell_type": "code",
<<<<<<< HEAD
<<<<<<< HEAD
<<<<<<< HEAD
<<<<<<< HEAD
<<<<<<< HEAD
<<<<<<< HEAD
<<<<<<< HEAD
<<<<<<< HEAD
<<<<<<< HEAD




   "execution_count": 82,
=======
   "execution_count": 95,
>>>>>>> 511d909 (Update execution counts and add unit tests for right rotation in tasks notebook)
=======
   "execution_count": 121,
>>>>>>> de3bf0f (Update execution counts and add example usage for right rotation in tasks notebook)
=======
   "execution_count": 58,
>>>>>>> b03b855 (Add rotate left and right functions with example usage and unit tests in tasks notebook)
=======
   "execution_count": 41,
>>>>>>> 9239edd (Update execution counts and add majority function example in tasks notebook)
=======
   "execution_count": 68,
>>>>>>> c4ea061 (Update execution counts and add majority function with test cases in tasks notebook)
=======
   "execution_count": 97,
>>>>>>> 81614fe (Update execution counts and add example usage for majority function in tasks notebook)
=======
   "execution_count": 167,
>>>>>>> 8e6cf9d (Update execution counts and add hash function implementation with test cases and example usage in tasks notebook)
=======
   "execution_count": 371,
>>>>>>> 613ac13 (Update execution counts and add SHA256 padding calculation function in tasks notebook)
=======
   "execution_count": 391,
>>>>>>> 29d5554 (Update execution counts and add SHA256 padding calculation test in tasks notebook)
   "metadata": {},
   "outputs": [],
   "source": [
    "#Ensure x is a 32-bit integer\n",
    "def rotl(x, n=1):\n",
    "    x = x & 0xFFFFFFFF # 0xFFFFFFFF = 11111111111111111111111111111111 (32 bits)\n",
    "\n",
    "    # Normalize n to be within 0-31 range\n",
    "    n = n % 32  # % 32 is the modulus (remainder) operator, which ensures a number stays within the range of 0 to 31.\n",
    "    \n",
    "    # Perform the rotation:\n",
    "    # 1. Shift left by n\n",
    "    # 2. Shift right by (32-n) to get wrapped bits\n",
    "    # 3. Combine using OR\n",
    "    left = (x << n) & 0xFFFFFFFF\n",
    "    right = (x >> (32 - n)) & 0xFFFFFFFF\n",
    "    \n",
    "    return left | right\n",
    "#Combine the left and right shifted values using bitwise OR (|).\n",
    "#This ensures that any bits that \"overflowed\" on the left side during the left shift\n",
    "#are correctly wrapped around to the right side.\n",
    "\n",
    "\n"
   ]
  },
  {
   "cell_type": "code",
   "execution_count": 392,
   "metadata": {},
   "outputs": [],
   "source": [
    "#Test cases:\n",
    "class TestRotl(unittest.TestCase):\n",
    "    def test_basic_rotation(self):\n",
    "        #Test rotating 1 by 1 position\n",
    "        #Binary: 00000000000000000000000000000001 -> 00000000000000000000000000000010\n",
    "        self.assertEqual(rotl(1, 1), 2)\n",
    "    \n",
    "    def test_multiple_positions(self):\n",
    "        #Test rotating 1 by 2 positions\n",
    "        #Binary: 00000000000000000000000000000001 -> 00000000000000000000000000000100\n",
    "        self.assertEqual(rotl(1, 2), 4)\n",
    "    \n",
    "    def test_wrap_around(self):\n",
    "        #Test rotating when bits need to wrap around\n",
    "        #Binary: 10000000000000000000000000000000 -> 00000000000000000000000000000001\n",
    "        self.assertEqual(rotl(0x80000000, 1), 1)\n",
    "    \n",
    "    def test_default_parameter(self):\n",
    "        #Test the default n=1 parameter\n",
    "        self.assertEqual(rotl(1), 2)\n",
    "\n"
   ]
  },
  {
   "cell_type": "code",
   "execution_count": 393,
   "metadata": {},
   "outputs": [
    {
     "name": "stderr",
     "output_type": "stream",
     "text": [
      "............\n",
      "----------------------------------------------------------------------\n",
      "Ran 12 tests in 0.012s\n",
      "\n",
      "OK\n"
     ]
    }
   ],
   "source": [
    "# Run the tests:\n",
    "# Run the unit tests to verify the correctness of the rotl function.\n",
    "# `unittest.main()` automatically finds and runs all test functions \n",
    "# that start with \"test_\" in the script.\n",
    "#\n",
    "# `argv=['first-arg-is-ignored']` prevents unittest from processing \n",
    "# command-line arguments (which would otherwise interfere with Jupyter or scripts).\n",
    "#\n",
    "# `exit=False` ensures that unittest does not cause the program to exit after running tests.\n",
    "if __name__ == '__main__':\n",
    "    unittest.main(argv=['first-arg-is-ignored'], exit=False)"
   ]
  },
  {
   "cell_type": "code",
   "execution_count": 394,
   "metadata": {},
   "outputs": [
    {
     "name": "stdout",
     "output_type": "stream",
     "text": [
      "Example rotations:\n",
      "Original number: 00000000000000000000000000000001\n",
      "Rotated by 1:   00000000000000000000000000000010\n",
      "Rotated by 2:   00000000000000000000000000000100\n"
     ]
    }
   ],
   "source": [
    "print(\"Example rotations:\")\n",
    "x = 0x1  # Binary representation: 00000000000000000000000000000001\n",
    "print(f\"Original number: {bin(x)[2:].zfill(32)}\")\n",
    "# Rotate left by 1 and print result\n",
    "rotated = rotl(x, 1)\n",
    "print(f\"Rotated by 1:   {bin(rotated)[2:].zfill(32)}\")\n",
    "# Rotate left by 2 and print result\n",
    "rotated = rotl(x, 2)\n",
    "print(f\"Rotated by 2:   {bin(rotated)[2:].zfill(32)}\")"
   ]
  },
  {
   "cell_type": "markdown",
   "metadata": {},
   "source": [
    "## Rotr(Rotate Right) function"
   ]
  },
  {
   "cell_type": "code",
   "execution_count": 395,
   "metadata": {},
   "outputs": [
    {
     "name": "stdout",
     "output_type": "stream",
     "text": [
      "Rotated by 1: 00100000000000000000000000000000\n"
     ]
    }
   ],
   "source": [
    "def rotr(x, n=1):\n",
    "    \"\"\"\n",
    "    This Rotates the bits in a 32-bit unsigned integer to the right by n places.\n",
    "    \n",
    "    Parameters:\n",
    "        x (int): The 32-bit unsigned integer to rotate\n",
    "        n (int): Number of positions to rotate right (default=1)\n",
    "        \n",
    "    Returns:\n",
    "        int: The rotated number\n",
    "    \"\"\"\n",
    "    #Ensure x is a 32-bit integer\n",
    "    x = x & 0xFFFFFFFF\n",
    "    \n",
    "    #Normalize n to be within 0-31 range\n",
    "    n = n % 32\n",
    "    \n",
    "    #Perform the rotation:\n",
    "    right = (x >> n) & 0xFFFFFFFF\n",
    "    left = (x << (32 - n)) & 0xFFFFFFFF\n",
    "    \n",
    "    return right | left\n",
    "\n",
    "#Test case\n",
    "rotatedr = (rotr(x, 3))    \n",
    "print(f\"Rotated by 1: {bin(rotatedr)[2:].zfill(32)}\")"
   ]
  },
  {
   "cell_type": "code",
   "execution_count": 396,
   "metadata": {},
   "outputs": [],
   "source": [
    "#Test cases:\n",
    "def test_basic_rotation():\n",
    "    # Test rotating 2 by 1 position\n",
    "    # Binary: 00000000000000000000000000000010 -> 00000000000000000000000000000001\n",
    "    assert rotr(2, 1) == 1\n",
    "\n",
    "def test_multiple_positions():\n",
    "    # Test rotating 4 by 2 positions\n",
    "    # Binary: 00000000000000000000000000000100 -> 00000000000000000000000000000001\n",
    "    assert rotr(4, 2) == 1\n",
    "\n",
    "def test_wrap_around():\n",
    "    # Test rotating when bits need to wrap around\n",
    "    # Binary: 00000000000000000000000000000001 -> 10000000000000000000000000000000\n",
    "    assert rotr(1, 31) == 0x80000000\n"
   ]
  },
  {
   "cell_type": "code",
   "execution_count": 397,
   "metadata": {},
   "outputs": [
    {
     "name": "stderr",
     "output_type": "stream",
     "text": [
      "............\n",
      "----------------------------------------------------------------------\n",
      "Ran 12 tests in 0.011s\n",
      "\n",
      "OK\n"
     ]
    }
   ],
   "source": [
    "#Run the tests:\n",
    "if __name__ == '__main__':\n",
    "    unittest.main(argv=['first-arg-is-ignored'], exit=False)"
   ]
  },
  {
   "cell_type": "code",
   "execution_count": 398,
   "metadata": {},
   "outputs": [
    {
     "name": "stdout",
     "output_type": "stream",
     "text": [
      "Example rotations:\n",
      "Original number: 00000000000000000000000000000010\n",
      "Rotated by 1:   00000000000000000000000000000001\n"
     ]
    }
   ],
   "source": [
    "#Example usage:\n",
    "print(\"Example rotations:\")\n",
    "x = 0x2  # Binary: ...00010\n",
    "print(f\"Original number: {bin(x)[2:].zfill(32)}\")\n",
    "rotated = rotr(x, 1)\n",
    "print(f\"Rotated by 1:   {bin(rotated)[2:].zfill(32)}\")"
   ]
  },
  {
   "cell_type": "markdown",
   "metadata": {},
   "source": [
    "## Choose function"
   ]
  },
  {
   "cell_type": "code",
   "execution_count": 399,
   "metadata": {},
   "outputs": [],
   "source": [
    "def ch(x, y, z):\n",
    "    \"\"\"\n",
    "\n",
    "The Core Idea: Bit Selection:\n",
    "Think of x as a control switch that decides which bits to keep from y and z.\n",
    "\n",
    "If x has a 1 in a given position → Choose the bit from y.\n",
    "If x has a 0 in a given position → Choose the bit from z.\n",
    "\n",
    "    Choose function: for each bit position, selects the bit from y if the \n",
    "    corresponding bit in x is 1, else selects the bit from z.\n",
    "    \n",
    "    Parameters:\n",
    "        x (int): The selector number\n",
    "        y (int): Number to select bits from when x has 1s\n",
    "        z (int): Number to select bits from when x has 0s\n",
    "    \"\"\"\n",
    "    x = x & 0xFFFFFFFF  # Ensure 32-bit numbers\n",
    "    y = y & 0xFFFFFFFF\n",
    "    z = z & 0xFFFFFFFF\n",
    "    \n",
    "    # Formula: (x & y) ^ (~x & z)\n",
    "    # Where & is AND, ~ is NOT, ^ is XOR\n",
    "    return ((x & y) ^ (~x & z)) & 0xFFFFFFFF"
   ]
  },
  {
   "cell_type": "code",
   "execution_count": 400,
   "metadata": {},
   "outputs": [
    {
     "name": "stderr",
     "output_type": "stream",
     "text": [
      "............\n",
      "----------------------------------------------------------------------\n",
      "Ran 12 tests in 0.012s\n",
      "\n",
      "OK\n"
     ]
    }
   ],
   "source": [
    "#Test cases:\n",
    "class TestCh(unittest.TestCase):\n",
    "    def test_basic_choice(self):\n",
    "        # If x is all 1s, result should be y\n",
    "        self.assertEqual(ch(0xFFFFFFFF, 0x5, 0x3), 0x5)\n",
    "        \n",
    "        # If x is all 0s, result should be z\n",
    "        self.assertEqual(ch(0x0, 0x5, 0x3), 0x3)\n",
    "    \n",
    "    def test_mixed_choice(self):\n",
    "        # x = 0110 (6)\n",
    "        # y = 1111 (15)\n",
    "        # z = 0000 (0)\n",
    "        # Result should be 0110 (6)\n",
    "        self.assertEqual(ch(6, 15, 0), 6)\n",
    "\n",
    "if __name__ == '__main__':\n",
    "    unittest.main(argv=['first-arg-is-ignored'], exit=False)"
   ]
  },
  {
   "cell_type": "code",
   "execution_count": 401,
   "metadata": {},
   "outputs": [
    {
     "name": "stdout",
     "output_type": "stream",
     "text": [
      "\n",
      "Example of ch function:\n",
      "x: 0110\n",
      "y: 1111\n",
      "z: 0000\n",
      "Result: 0110\n"
     ]
    }
   ],
   "source": [
    "#Example usage:\n",
    "print(\"\\nExample of ch function:\")\n",
    "x = 0x6  # Binary: 0110\n",
    "y = 0xF  # Binary: 1111\n",
    "z = 0x0  # Binary: 0000\n",
    "result = ch(x, y, z)\n",
    "print(f\"x: {bin(x)[2:].zfill(4)}\")\n",
    "print(f\"y: {bin(y)[2:].zfill(4)}\")\n",
    "print(f\"z: {bin(z)[2:].zfill(4)}\")\n",
    "print(f\"Result: {bin(result)[2:].zfill(4)}\")"
   ]
  },
  {
   "cell_type": "markdown",
   "metadata": {},
   "source": [
    "## Majority function"
   ]
  },
  {
   "cell_type": "code",
   "execution_count": 402,
   "metadata": {},
   "outputs": [
    {
     "name": "stdout",
     "output_type": "stream",
     "text": [
      "x: 0110\n",
      "y: 1111\n",
      "z: 0000\n",
      "Result: 0111\n"
     ]
    }
   ],
   "source": [
    "def maj(x, y, z):\n",
    "    \"\"\"\n",
    "    Majority function: This outputs 1 in positions where at least 2 out of 3 input bits are 1, Indicating the majority.\n",
    "    \n",
    "    Parameters:\n",
    "        x (int): First 32-bit number\n",
    "        y (int): Second 32-bit number\n",
    "        z (int): Third 32-bit number\n",
    "    \"\"\"\n",
    "    x = x & 0xFFFFFFFF  # Ensure 32-bit numbers\n",
    "    y = y & 0xFFFFFFFF\n",
    "    z = z & 0xFFFFFFFF\n",
    "    \n",
    "    # Formula: (x & y) ^ (x & z) ^ (y & z)\n",
    "    # Returns 1 if at least two inputs have 1 in that position\n",
    "    return ((x & y) ^ (x & z) ^ (y & z)) & 0xFFFFFFFF\n",
    "\n",
    "result = maj(0x6, 0x5, 0x3)\n",
    "print(f\"x: {bin(x)[2:].zfill(4)}\")\n",
    "print(f\"y: {bin(y)[2:].zfill(4)}\")\n",
    "print(f\"z: {bin(z)[2:].zfill(4)}\")\n",
    "print(f\"Result: {bin(result)[2:].zfill(4)}\")"
   ]
  },
  {
   "cell_type": "code",
   "execution_count": 403,
   "metadata": {},
   "outputs": [
    {
     "name": "stderr",
     "output_type": "stream",
     "text": [
      "............\n",
      "----------------------------------------------------------------------\n",
      "Ran 12 tests in 0.006s\n",
      "\n",
      "OK\n"
     ]
    }
   ],
   "source": [
    "#Test cases:\n",
    "class TestMaj(unittest.TestCase):\n",
    "    def test_basic_majority(self):\n",
    "        # If any two inputs are 1, output should be 1\n",
    "        self.assertEqual(maj(1, 1, 0), 1)  # Two 1s, one 0\n",
    "        self.assertEqual(maj(1, 0, 0), 0)  # One 1, two 0s\n",
    "        \n",
    "    def test_all_same(self):\n",
    "        # If all inputs are same, output should be that value\n",
    "        self.assertEqual(maj(1, 1, 1), 1)  # All 1s\n",
    "        self.assertEqual(maj(0, 0, 0), 0)  # All 0s\n",
    "    \n",
    "    def test_multiple_bits(self):\n",
    "        # Test with multiple bit positions\n",
    "        # x = 1100 (12)\n",
    "        # y = 1010 (10)\n",
    "        # z = 1001 (9)\n",
    "        # Result should be 1000 (8) - only first position has majority 1s\n",
    "        self.assertEqual(maj(12, 10, 9), 8)\n",
    "\n",
    "if __name__ == '__main__':\n",
    "    unittest.main(argv=['first-arg-is-ignored'], exit=False)"
   ]
  },
  {
   "cell_type": "code",
   "execution_count": 404,
   "metadata": {},
   "outputs": [
    {
     "name": "stdout",
     "output_type": "stream",
     "text": [
      "\n",
      "Example of maj function:\n",
      "x: 1100\n",
      "y: 1010\n",
      "z: 1001\n",
      "Result: 1000\n"
     ]
    }
   ],
   "source": [
    "#Example usage\n",
    "print(\"\\nExample of maj function:\")\n",
    "x = 0xC  #Binary: 1100\n",
    "y = 0xA  #Binary: 1010\n",
    "z = 0x9  #Binary: 1001\n",
    "result = maj(x, y, z)\n",
    "print(f\"x: {bin(x)[2:].zfill(4)}\")\n",
    "print(f\"y: {bin(y)[2:].zfill(4)}\")\n",
    "print(f\"z: {bin(z)[2:].zfill(4)}\")\n",
    "print(f\"Result: {bin(result)[2:].zfill(4)}\")"
   ]
  },
  {
   "cell_type": "markdown",
   "metadata": {},
   "source": [
    "# Task 2: Hash Functions"
   ]
  },
  {
   "cell_type": "code",
   "execution_count": 405,
   "metadata": {},
   "outputs": [],
   "source": [
    "#31\n",
    "#31 makes sure different words get different numbers.\n",
    "\n",
    "#101\n",
    "#101 keeps the final number small and spread out evenly.\n",
    "\n",
    "# `ord(char)` gets the ASCII number for each character.\n",
    "# Example: ord('c') = 99, ord('a') = 97, ord('t') = 116\n",
    "\n",
    "\n",
    "#Example Walkthrough\n",
    "#Input: \"cat\"\n",
    "#Step\tCharacter (*s)\tASCII (*s)\tCalculation\t    hashval\n",
    "#1\t      'c'\t          99        99 + 31 * 0\t      99\n",
    "#2\t      'a'\t          97\t    97 + 31 * 99\t  3166\n",
    "#3\t      't'\t          116\t    116 + 31 * 3166\t  98262\n",
    "#4\t    '\\0'(End)\t      -\t        98262 % 101\t      14"
   ]
  },
  {
   "cell_type": "code",
   "execution_count": 406,
   "metadata": {},
   "outputs": [],
   "source": [
    "def hash_string(s):\n",
    "    \"\"\"\n",
    "    Convert K&R C hash function to Python.\n",
    "    Takes a string and produces a hash value.\n",
    "    \"\"\"\n",
    "    hashval = 0\n",
    "    for char in s:\n",
    "        hashval = ord(char) + 31 * hashval\n",
    "    return hashval % 101"
   ]
  },
  {
   "cell_type": "code",
   "execution_count": 407,
   "metadata": {},
   "outputs": [
    {
     "name": "stderr",
     "output_type": "stream",
     "text": [
      "............\n",
      "----------------------------------------------------------------------\n",
      "Ran 12 tests in 0.006s\n",
      "\n",
      "OK\n"
     ]
    }
   ],
   "source": [
    "#Test cases\n",
    "class TestHashFunction(unittest.TestCase):\n",
    "    def test_basic_strings(self):\n",
    "        # Test different strings produce different hashes\n",
    "        self.assertNotEqual(hash_string(\"hello\"), hash_string(\"world\"))\n",
    "        \n",
    "    def test_empty_string(self):\n",
    "        # Test empty string\n",
    "        self.assertEqual(hash_string(\"\"), 0)\n",
    "        \n",
    "    def test_same_strings(self):\n",
    "        # Test same string produces same hash\n",
    "        self.assertEqual(hash_string(\"test\"), hash_string(\"test\"))\n",
    "\n",
    "if __name__ == '__main__':\n",
    "    unittest.main(argv=['first-arg-is-ignored'], exit=False)\n"
   ]
  },
  {
   "cell_type": "code",
   "execution_count": 408,
   "metadata": {},
   "outputs": [
    {
     "name": "stdout",
     "output_type": "stream",
     "text": [
      "Example hashes:\n",
      "Hash of 'hello': 17\n",
      "Hash of 'world': 34\n",
      "Hash of 'python': 91\n",
      "Hash of 'hash': 15\n"
     ]
    }
   ],
   "source": [
    "#Example usage\n",
    "print(\"Example hashes:\")\n",
    "test_strings = [\"hello\", \"world\", \"python\", \"hash\"]\n",
    "for s in test_strings:\n",
    "    print(f\"Hash of '{s}': {hash_string(s)}\")"
   ]
  },
  {
   "cell_type": "markdown",
   "metadata": {},
   "source": [
    "## Task 3: SHA256"
   ]
  },
  {
   "cell_type": "code",
   "execution_count": 409,
   "metadata": {},
   "outputs": [],
   "source": [
    "def calculate_sha256_padding(file_path):\n",
    "    \"\"\"\n",
    "    Calculate SHA256 padding for a given file.\n",
    "    \"\"\"\n",
    "    # Read the file content\n",
    "    with open(file_path, 'rb') as f:\n",
    "        content = f.read()\n",
    "    \n",
    "    # Calculate original length in bits\n",
    "    original_length_bits = len(content) * 8\n",
    "    \n",
    "    # Calculate padding length to align to 512 bits\n",
    "    padding_length = 512 - ((original_length_bits + 1 + 64) % 512)\n",
    "    if padding_length == 0:\n",
    "        padding_length = 512  # Always need at least one full block of padding\n",
    "    \n",
    "    \n",
    "    # Create padding\n",
    "    # First byte is 0x80 (10000000 in binary - our 1 bit followed by 7 zeros)\n",
    "    padding = bytearray([0x80])\n",
    "    \n",
    "    # Add the zero bytes - corrected to use -8\n",
    "    padding.extend([0] * ((padding_length - 8) // 8))\n",
    "    \n",
    "    # Add the original length as a 64-bit big-endian number\n",
    "    padding.extend(original_length_bits.to_bytes(8, byteorder='big'))\n",
    "    \n",
    "    # Format and print padding in hex\n",
    "    hex_padding = ' '.join(f'{b:02x}' for b in padding)\n",
    "    print('\\n'.join(' '.join(hex_padding[i:i+48].split()) \n",
    "                    for i in range(0, len(hex_padding), 48)))\n",
    "    \n",
    "    return padding"
   ]
  },
  {
   "cell_type": "code",
   "execution_count": 410,
   "metadata": {},
   "outputs": [
    {
     "name": "stdout",
     "output_type": "stream",
     "text": [
      "Testing SHA256 padding for 'abc':\n",
      "80 00 00 00 00 00 00 00 00 00 00 00 00 00 00 00\n",
      "00 00 00 00 00 00 00 00 00 00 00 00 00 00 00 00\n",
      "00 00 00 00 00 00 00 00 00 00 00 00 00 00 00 00\n",
      "00 00 00 00 00 00 00 00 00 00 00 18\n"
     ]
    }
   ],
   "source": [
    "\n",
    "# Test with the example from the specification\n",
    "def test_sha256_padding():\n",
    "    # Create a test file with 'abc'\n",
    "    with open('test.txt', 'wb') as f:\n",
    "        f.write(b'abc')\n",
    "    \n",
    "    print(\"Testing SHA256 padding for 'abc':\")\n",
    "    padding = calculate_sha256_padding('test.txt')\n",
    "    \n",
    "    # Verify first byte is 0x80\n",
    "    assert padding[0] == 0x80\n",
    "    \n",
    "    # Verify all middle bytes are 0\n",
    "    assert all(b == 0 for b in padding[1:-8])\n",
    "    \n",
    "    # Verify length (24 bits = 0x18) is at the end\n",
    "    assert padding[-1] == 0x18\n",
    "\n",
    "# Run test\n",
    "if __name__ == '__main__':\n",
    "    test_sha256_padding()"
   ]
  }
 ],
 "metadata": {
  "kernelspec": {
   "display_name": "base",
   "language": "python",
   "name": "python3"
  },
  "language_info": {
   "codemirror_mode": {
    "name": "ipython",
    "version": 3
   },
   "file_extension": ".py",
   "mimetype": "text/x-python",
   "name": "python",
   "nbconvert_exporter": "python",
   "pygments_lexer": "ipython3",
   "version": "3.12.7"
  }
 },
 "nbformat": 4,
 "nbformat_minor": 2
}
