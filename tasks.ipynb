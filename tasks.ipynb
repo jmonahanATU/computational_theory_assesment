{
 "cells": [
  {
   "cell_type": "markdown",
   "metadata": {},
   "source": [
    "# Computational Theory Tasks"
   ]
  },
  {
   "cell_type": "markdown",
   "metadata": {},
   "source": [
    "# Task 1: Binary Representations\n",
    "\n",
    "This task requires implementing four bit manipulation operations on 32-bit unsigned integers:\n",
    "1. Left rotation - Rotate bits to the left\n",
    "2. Right rotation - Rotate bits to the right\n",
    "3. Choose function - Select bits from y or z based on x\n",
    "4. Majority function - Take a majority vote of bits"
   ]
  },
  {
   "cell_type": "markdown",
   "metadata": {},
   "source": [
    "## Part 1: Left Rotation\n",
    "\n",
    "Left rotation shifts all bits to the left, with any bits that \"fall off\" the left end wrapping around to the right end.\n",
    "\n",
    "For example, rotating 00000000000000000000000000000001 left by 1 position gives 00000000000000000000000000000010"
   ]
  },
  {
   "cell_type": "code",
<<<<<<< HEAD
<<<<<<< HEAD
<<<<<<< HEAD
<<<<<<< HEAD
<<<<<<< HEAD
<<<<<<< HEAD
<<<<<<< HEAD
<<<<<<< HEAD
<<<<<<< HEAD
<<<<<<< HEAD
<<<<<<< HEAD
<<<<<<< HEAD
<<<<<<< HEAD
<<<<<<< HEAD
<<<<<<< HEAD
<<<<<<< HEAD

   "execution_count": 391,

=======
   "execution_count": 30,
>>>>>>> 835aa5f (add output for first n primes calculation in tasks notebook)
=======
   "execution_count": 58,
>>>>>>> cc4ed56 (Add function to extract fractional bits from a number and update execution counts)
=======
   "execution_count": 119,
>>>>>>> 0820c7b (Add function to calculate factorial and update execution counts)
=======
   "execution_count": 34,
>>>>>>> 3ec4de6 (Add function to calculate the greatest common divisor and update execution counts)
=======
   "execution_count": 226,
>>>>>>> 2b1e433 (Implement dictionary download for Proof of Work task)
=======
   "execution_count": null,
=======
   "execution_count": 458,
>>>>>>> 1307774 (Restructuring my notebook  with a more explanatory design)
=======
   "execution_count": 500,
>>>>>>> 1f5d8da (Ensure n is between 0 and 31)
=======
   "execution_count": 1580,
>>>>>>> 412fa3c (add left rotation examples in notebook)
=======
   "execution_count": 2061,
>>>>>>> da02c75 (Add right rotation implementation)
=======
   "execution_count": 2419,
=======
   "execution_count": 2792,
>>>>>>> 4a91b24 (Update notebook with additional examples and enhanced explanations)
=======
   "execution_count": 250,
>>>>>>> 8aee5ee (Add left rotation implementation and Hash Function cell by cell)
=======
   "execution_count": 1029,
>>>>>>> 79beaf1 (Add sample.txt with initial content)
=======
   "execution_count": 214,
>>>>>>> 44ab4d2 (Added Algorithm 1: Sieve of Eratosthenes. Cell by cell fashion.)
=======
   "execution_count": 1385,
>>>>>>> 30d5b22 (Add new algorithm Trial Division and enhance documentation in the notebook)
   "metadata": {},
   "outputs": [],
   "source": [
    "import unittest"
   ]
  },
  {
   "cell_type": "code",
<<<<<<< HEAD
<<<<<<< HEAD
<<<<<<< HEAD
<<<<<<< HEAD
<<<<<<< HEAD
   "execution_count": 2420,
>>>>>>> 44ae242 (Refactor notebook to improve structure and add right rotation examples)
=======
   "execution_count": 2793,
>>>>>>> 4a91b24 (Update notebook with additional examples and enhanced explanations)
=======
   "execution_count": 251,
>>>>>>> 8aee5ee (Add left rotation implementation and Hash Function cell by cell)
=======
   "execution_count": 1030,
>>>>>>> 79beaf1 (Add sample.txt with initial content)
=======
   "execution_count": 215,
>>>>>>> 44ab4d2 (Added Algorithm 1: Sieve of Eratosthenes. Cell by cell fashion.)
=======
   "execution_count": 1386,
>>>>>>> 30d5b22 (Add new algorithm Trial Division and enhance documentation in the notebook)
   "metadata": {},
   "outputs": [
    {
     "name": "stdout",
     "output_type": "stream",
     "text": [
      "Original number (x = 1):\n",
      "Binary representation: 00000000000000000000000000000001\n"
     ]
    }
   ],
   "source": [
    "#Define test value\n",
    "x = 1  # 00000000000000000000000000000001 in binary\n",
    "n = 1  # Number of positions to rotate\n",
    "print(f\"Original number (x = {x}):\")\n",
    "#print(f\"Binary representation: {x:032b}\")\n",
    "\n",
    "# bin(x) returns a string like '0b101' (binary representation of x)\n",
    "# [2:] removes the '0b' prefix, leaving just the binary digits\n",
    "# zfill(32) ensures the binary string is exactly 32 bits by adding leading zeros if needed\n",
    "print(f\"Binary representation: {bin(x)[2:].zfill(32)}\")"
   ]
  },
  {
   "cell_type": "markdown",
   "metadata": {},
   "source": [
    "### Step 1: Ensure we have a 32-bit integer\n",
    "\n",
    "First, we use a bitwise AND with 0xFFFFFFFF (all 1s in binary) to ensure we're working with a 32-bit integer:"
   ]
  },
  {
   "cell_type": "code",
<<<<<<< HEAD
<<<<<<< HEAD
<<<<<<< HEAD
<<<<<<< HEAD
<<<<<<< HEAD
<<<<<<< HEAD
<<<<<<< HEAD
<<<<<<< HEAD
<<<<<<< HEAD
<<<<<<< HEAD
   "execution_count": 209,
>>>>>>> d5ad094 (Add function to calculate the least common multiple and update execution counts)
=======
   "execution_count": null,
=======
   "execution_count": 501,
>>>>>>> 1f5d8da (Ensure n is between 0 and 31)
=======
   "execution_count": 1581,
>>>>>>> 412fa3c (add left rotation examples in notebook)
=======
   "execution_count": 2062,
>>>>>>> da02c75 (Add right rotation implementation)
=======
   "execution_count": 2421,
>>>>>>> 44ae242 (Refactor notebook to improve structure and add right rotation examples)
=======
   "execution_count": 2794,
>>>>>>> 4a91b24 (Update notebook with additional examples and enhanced explanations)
=======
   "execution_count": 252,
>>>>>>> 8aee5ee (Add left rotation implementation and Hash Function cell by cell)
=======
   "execution_count": 1031,
>>>>>>> 79beaf1 (Add sample.txt with initial content)
=======
   "execution_count": 216,
>>>>>>> 44ab4d2 (Added Algorithm 1: Sieve of Eratosthenes. Cell by cell fashion.)
=======
   "execution_count": 1387,
>>>>>>> 30d5b22 (Add new algorithm Trial Division and enhance documentation in the notebook)
   "metadata": {},
   "outputs": [
    {
     "name": "stdout",
     "output_type": "stream",
     "text": [
      "After masking to 32 bits: 00000000000000000000000000000001\n"
     ]
    }
   ],
   "source": [
    "x = x & 0xFFFFFFFF  #Mask value to 32 bits\n",
    "print(f\"After masking to 32 bits: {bin(x)[2:].zfill(32)}\")\n"
   ]
  },
  {
   "cell_type": "markdown",
   "metadata": {},
   "source": [
    "### Step 2: Normalize rotation amount\n",
    "\n",
    "Since rotating by 32 positions is the same as rotating by 0 positions (we'd be back where we started), we use the modulo operator to keep n in the range 0-31:"
   ]
  },
  {
   "cell_type": "code",
<<<<<<< HEAD
<<<<<<< HEAD
<<<<<<< HEAD
<<<<<<< HEAD
<<<<<<< HEAD
<<<<<<< HEAD
<<<<<<< HEAD
<<<<<<< HEAD
<<<<<<< HEAD
   "execution_count": 460,
>>>>>>> 1307774 (Restructuring my notebook  with a more explanatory design)
=======
   "execution_count": 502,
=======
   "execution_count": 1582,
>>>>>>> 412fa3c (add left rotation examples in notebook)
=======
   "execution_count": 2063,
>>>>>>> da02c75 (Add right rotation implementation)
=======
   "execution_count": 2422,
>>>>>>> 44ae242 (Refactor notebook to improve structure and add right rotation examples)
=======
   "execution_count": 2795,
>>>>>>> 4a91b24 (Update notebook with additional examples and enhanced explanations)
=======
   "execution_count": 253,
>>>>>>> 8aee5ee (Add left rotation implementation and Hash Function cell by cell)
=======
   "execution_count": 1032,
>>>>>>> 79beaf1 (Add sample.txt with initial content)
=======
   "execution_count": 217,
>>>>>>> 44ab4d2 (Added Algorithm 1: Sieve of Eratosthenes. Cell by cell fashion.)
=======
   "execution_count": 1388,
>>>>>>> 30d5b22 (Add new algorithm Trial Division and enhance documentation in the notebook)
   "metadata": {},
   "outputs": [
    {
     "name": "stdout",
     "output_type": "stream",
     "text": [
      "Number of positions to rotate: 1\n"
     ]
    }
   ],
   "source": [
    "n = n % 32  #Ensure n is between 0 and 31\n",
    "print(f\"Number of positions to rotate: {n}\")"
   ]
  },
  {
   "cell_type": "markdown",
   "metadata": {},
   "source": [
    "### Step 3: Perform the rotation\n",
    "\n",
    "The rotation has two parts:\n",
    "1. Shift the bits left by n positions\n",
    "2. Bring any bits that \"fell off\" back to the right side\n",
    "\n",
    "We combine these using the bitwise OR operator (|):"
   ]
  },
  {
   "cell_type": "code",
<<<<<<< HEAD
<<<<<<< HEAD
<<<<<<< HEAD
<<<<<<< HEAD
<<<<<<< HEAD
<<<<<<< HEAD
<<<<<<< HEAD
<<<<<<< HEAD
   "execution_count": 503,
>>>>>>> 1f5d8da (Ensure n is between 0 and 31)
=======
   "execution_count": 1583,
=======
   "execution_count": 2064,
>>>>>>> da02c75 (Add right rotation implementation)
=======
   "execution_count": 2423,
>>>>>>> 44ae242 (Refactor notebook to improve structure and add right rotation examples)
=======
   "execution_count": 2796,
>>>>>>> 4a91b24 (Update notebook with additional examples and enhanced explanations)
=======
   "execution_count": 254,
>>>>>>> 8aee5ee (Add left rotation implementation and Hash Function cell by cell)
=======
   "execution_count": 1033,
>>>>>>> 79beaf1 (Add sample.txt with initial content)
=======
   "execution_count": 218,
>>>>>>> 44ab4d2 (Added Algorithm 1: Sieve of Eratosthenes. Cell by cell fashion.)
=======
   "execution_count": 1389,
>>>>>>> 30d5b22 (Add new algorithm Trial Division and enhance documentation in the notebook)
   "metadata": {},
   "outputs": [
    {
     "name": "stdout",
     "output_type": "stream",
     "text": [
      "Left shift part: 00000000000000000000000000000010\n",
      "Right shift part: 00000000000000000000000000000000\n",
      "\n",
      "Rotated result:   00000000000000000000000000000010\n",
      "Decimal value:    2\n"
     ]
    }
   ],
   "source": [
    "left_shift = (x << n ) & 0xFFFFFFFF  #Left shift x by n positions\n",
    "print(f\"Left shift part: {bin(left_shift)[2:].zfill(32)}\")\n",
    "\n",
    "# Calculate right shift part (for bits that wrap around)\n",
    "right_shift = (x >> (32 - n)) & 0xFFFFFFFF #Right shift x by (32 - n) positions\n",
    "print(f\"Right shift part: {bin(right_shift)[2:].zfill(32)}\")\n",
    "\n",
    "rotated = left_shift | right_shift\n",
    "print(f\"\\nRotated result:   {bin(rotated)[2:].zfill(32)}\")\n",
    "print(f\"Decimal value:    {rotated}\")"
   ]
  },
  {
   "cell_type": "markdown",
   "metadata": {},
   "source": [
    "### Left Rotation Examples\n",
    "\n",
    "Let's test rotation with different values to understand it better:"
   ]
  },
  {
   "cell_type": "code",
   "execution_count": 1390,
   "metadata": {},
   "outputs": [
    {
     "name": "stdout",
     "output_type": "stream",
     "text": [
      "Original: 00000000000000000000000000000001\n",
      "Rotated:  00000000000000000000000000000100\n",
      "Result:   4\n"
     ]
    }
   ],
   "source": [
    "#Example 1: Rotate 1 left by 2 positions\n",
    "x = 1\n",
    "n = 2\n",
    "print(f\"Original: {bin(x)[2:].zfill(32)}\")\n",
    "\n",
    "# Apply mask and normalize\n",
    "x = x & 0xFFFFFFFF\n",
    "n = n % 32\n",
    "\n",
    "# Perform rotation\n",
    "left_shift = (x << n) & 0xFFFFFFFF\n",
    "right_shift = (x >> (32 - n)) & 0xFFFFFFFF\n",
    "rotated = left_shift | right_shift\n",
    "\n",
    "print(f\"Rotated:  {bin(rotated)[2:].zfill(32)}\")\n",
    "print(f\"Result:   {rotated}\") "
   ]
  },
  {
   "cell_type": "code",
   "execution_count": 1391,
   "metadata": {},
   "outputs": [
    {
     "name": "stdout",
     "output_type": "stream",
     "text": [
      "Original: 10000000000000000000000000000000\n",
      "Rotated:  00000000000000000000000000000001\n",
      "Result:   1\n"
     ]
    }
   ],
   "source": [
    "# Example 2: Rotate a number with high bit set\n",
    "x = 0x80000000  # A 1 followed by 31 zeros\n",
    "n = 1\n",
    "print(f\"Original: {bin(x)[2:].zfill(32)}\")\n",
    "\n",
    "# Apply mask and normalize\n",
    "x = x & 0xFFFFFFFF\n",
    "n = n % 32\n",
    "\n",
    "# Perform rotation\n",
    "left_shift = (x << n) & 0xFFFFFFFF\n",
    "right_shift = (x >> (32 - n)) & 0xFFFFFFFF\n",
    "rotated = left_shift | right_shift\n",
    "\n",
    "print(f\"Rotated:  {bin(rotated)[2:].zfill(32)}\")\n",
    "print(f\"Result:   {rotated}\")  # is 1"
   ]
  },
  {
   "cell_type": "markdown",
   "metadata": {},
   "source": [
    "## Rotl(Rotate left) function"
   ]
  },
  {
   "cell_type": "code",
<<<<<<< HEAD
<<<<<<< HEAD
<<<<<<< HEAD
<<<<<<< HEAD
<<<<<<< HEAD
<<<<<<< HEAD
<<<<<<< HEAD
   "execution_count": 1586,
>>>>>>> 412fa3c (add left rotation examples in notebook)
=======
   "execution_count": 2067,
>>>>>>> da02c75 (Add right rotation implementation)
=======
   "execution_count": 2426,
>>>>>>> 44ae242 (Refactor notebook to improve structure and add right rotation examples)
=======
   "execution_count": 2799,
>>>>>>> 4a91b24 (Update notebook with additional examples and enhanced explanations)
=======
   "execution_count": 257,
>>>>>>> 8aee5ee (Add left rotation implementation and Hash Function cell by cell)
=======
   "execution_count": 1036,
>>>>>>> 79beaf1 (Add sample.txt with initial content)
=======
   "execution_count": 221,
>>>>>>> 44ab4d2 (Added Algorithm 1: Sieve of Eratosthenes. Cell by cell fashion.)
=======
   "execution_count": 1392,
>>>>>>> 30d5b22 (Add new algorithm Trial Division and enhance documentation in the notebook)
   "metadata": {},
   "outputs": [],
   "source": [
    "#Ensure x is a 32-bit integer\n",
    "def rotl(x, n=1):\n",
    "    x = x & 0xFFFFFFFF # 0xFFFFFFFF = 11111111111111111111111111111111 (32 bits)\n",
    "\n",
    "    # Normalize n to be within 0-31 range\n",
    "    n = n % 32  # % 32 is the modulus (remainder) operator, which ensures a number stays within the range of 0 to 31.\n",
    "    \n",
    "    # Perform the rotation:\n",
    "    # 1. Shift left by n\n",
    "    # 2. Shift right by (32-n) to get wrapped bits\n",
    "    # 3. Combine using OR\n",
    "    left = (x << n) & 0xFFFFFFFF\n",
    "    right = (x >> (32 - n)) & 0xFFFFFFFF\n",
    "    \n",
    "    return left | right\n",
    "#Combine the left and right shifted values using bitwise OR (|).\n",
    "#This ensures that any bits that \"overflowed\" on the left side during the left shift\n",
    "#are correctly wrapped around to the right side.\n",
    "\n",
    "\n"
   ]
  },
  {
   "cell_type": "code",
   "execution_count": 1393,
   "metadata": {},
   "outputs": [],
   "source": [
    "#Test cases:\n",
    "class TestRotl(unittest.TestCase):\n",
    "    def test_basic_rotation(self):\n",
    "        #Test rotating 1 by 1 position\n",
    "        #Binary: 00000000000000000000000000000001 -> 00000000000000000000000000000010\n",
    "        self.assertEqual(rotl(1, 1), 2)\n",
    "    \n",
    "    def test_multiple_positions(self):\n",
    "        #Test rotating 1 by 2 positions\n",
    "        #Binary: 00000000000000000000000000000001 -> 00000000000000000000000000000100\n",
    "        self.assertEqual(rotl(1, 2), 4)\n",
    "    \n",
    "    def test_wrap_around(self):\n",
    "        #Test rotating when bits need to wrap around\n",
    "        #Binary: 10000000000000000000000000000000 -> 00000000000000000000000000000001\n",
    "        self.assertEqual(rotl(0x80000000, 1), 1)\n",
    "    \n",
    "    def test_default_parameter(self):\n",
    "        #Test the default n=1 parameter\n",
    "        self.assertEqual(rotl(1), 2)\n",
    "\n"
   ]
  },
  {
   "cell_type": "code",
   "execution_count": 1394,
   "metadata": {},
   "outputs": [
    {
     "name": "stderr",
     "output_type": "stream",
     "text": [
      "............\n",
      "----------------------------------------------------------------------\n",
      "Ran 12 tests in 0.008s\n",
      "\n",
      "OK\n"
     ]
    }
   ],
   "source": [
    "# Run the tests:\n",
    "# Run the unit tests to verify the correctness of the rotl function.\n",
    "# `unittest.main()` automatically finds and runs all test functions \n",
    "# that start with \"test_\" in the script.\n",
    "#\n",
    "# `argv=['first-arg-is-ignored']` prevents unittest from processing \n",
    "# command-line arguments (which would otherwise interfere with Jupyter or scripts).\n",
    "#\n",
    "# `exit=False` ensures that unittest does not cause the program to exit after running tests.\n",
    "if __name__ == '__main__':\n",
    "    unittest.main(argv=['first-arg-is-ignored'], exit=False)"
   ]
  },
  {
   "cell_type": "code",
   "execution_count": 1395,
   "metadata": {},
   "outputs": [
    {
     "name": "stdout",
     "output_type": "stream",
     "text": [
      "Example rotations:\n",
      "Original number: 00000000000000000000000000000001\n",
      "Rotated by 1:   00000000000000000000000000000010\n",
      "Rotated by 2:   00000000000000000000000000100000\n"
     ]
    }
   ],
   "source": [
    "print(\"Example rotations:\")\n",
    "x = 0x1  # Binary representation: 00000000000000000000000000000001\n",
    "print(f\"Original number: {bin(x)[2:].zfill(32)}\")\n",
    "# Rotate left by 1 and print result\n",
    "rotated = rotl(x, 1)\n",
    "print(f\"Rotated by 1:   {bin(rotated)[2:].zfill(32)}\")\n",
    "# Rotate left by 37 and print result\n",
    "rotated = rotl(x, 37)\n",
    "print(f\"Rotated by 2:   {bin(rotated)[2:].zfill(32)}\")"
   ]
  },
  {
   "cell_type": "markdown",
   "metadata": {},
   "source": [
    "## Part 2: Right Rotation\n",
    "\n",
    "Right rotation shifts all bits to the right, with any bits that \"fall off\" the right end wrapping around to the left end.\n",
    "\n",
    "For example, rotating 00000000000000000000000000000010 right by 1 position gives 00000000000000000000000000000001"
   ]
  },
  {
   "cell_type": "code",
   "execution_count": 1396,
   "metadata": {},
   "outputs": [
    {
     "name": "stdout",
     "output_type": "stream",
     "text": [
      "Original value (x = 2):\n",
      "Binary representation: 00000000000000000000000000000010\n"
     ]
    }
   ],
   "source": [
    "# Define our test value\n",
    "x = 2  # 00000000000000000000000000000010 in binary\n",
    "n = 1  # Number of positions to rotate\n",
    "\n",
    "# Show original number\n",
    "print(f\"Original value (x = {x}):\")\n",
    "print(f\"Binary representation: {bin(x)[2:].zfill(32)}\")"
   ]
  },
  {
   "cell_type": "markdown",
   "metadata": {},
   "source": [
    "### Step 1: Ensure we have a 32-bit integer\n",
    "\n",
    "Just like with left rotation, we start by masking to ensure we have a 32-bit integer:"
   ]
  },
  {
   "cell_type": "code",
   "execution_count": 1397,
   "metadata": {},
   "outputs": [
    {
     "name": "stdout",
     "output_type": "stream",
     "text": [
      "After masking to 32 bits: 00000000000000000000000000000010\n"
     ]
    }
   ],
   "source": [
    "# Apply 32-bit mask\n",
    "x = x & 0xFFFFFFFF\n",
    "print(f\"After masking to 32 bits: {bin(x)[2:].zfill(32)}\")"
   ]
  },
  {
   "cell_type": "markdown",
   "metadata": {},
   "source": [
    "### Step 2: Normalize rotation amount\n",
    "\n",
    "Again, we ensure the rotation amount is between 0-31:"
   ]
  },
  {
   "cell_type": "code",
   "execution_count": 1398,
   "metadata": {},
   "outputs": [
    {
     "name": "stdout",
     "output_type": "stream",
     "text": [
      "Normalized rotation amount: 1\n"
     ]
    }
   ],
   "source": [
    "# Normalize rotation amount\n",
    "n = n % 32\n",
    "print(f\"Normalized rotation amount: {n}\")"
   ]
  },
  {
   "cell_type": "markdown",
   "metadata": {},
   "source": [
    "### Step 3: Perform the rotation\n",
    "\n",
    "The right rotation also has two parts, but in reverse order:\n",
    "1. Shift the bits right by n positions\n",
    "2. Bring any bits that \"fell off\" back to the left side\n",
    "\n",
    "We combine these using the bitwise OR operator (|):"
   ]
  },
  {
   "cell_type": "code",
   "execution_count": 1399,
   "metadata": {},
   "outputs": [
    {
     "name": "stdout",
     "output_type": "stream",
     "text": [
      "Right shift part: 00000000000000000000000000000001\n",
      "Left shift part:  00000000000000000000000000000000\n",
      "\n",
      "Rotated result:   00000000000000000000000000000001\n",
      "Decimal value:    1\n"
     ]
    }
   ],
   "source": [
    "# Calculate right shift part\n",
    "right_shift = (x >> n) & 0xFFFFFFFF\n",
    "print(f\"Right shift part: {bin(right_shift)[2:].zfill(32)}\")\n",
    "\n",
    "# Calculate left shift part (for bits that wrap around)\n",
    "left_shift = (x << (32 - n)) & 0xFFFFFFFF\n",
    "print(f\"Left shift part:  {bin(left_shift)[2:].zfill(32)}\")\n",
    "\n",
    "# Combine parts\n",
    "rotated = right_shift | left_shift\n",
    "print(f\"\\nRotated result:   {bin(rotated)[2:].zfill(32)}\")\n",
    "print(f\"Decimal value:    {rotated}\")"
   ]
  },
  {
   "cell_type": "markdown",
   "metadata": {},
   "source": [
    "### Right Rotation Examples\n",
    "\n",
    "Let's test right rotation with different values:"
   ]
  },
  {
   "cell_type": "code",
   "execution_count": 1400,
   "metadata": {},
   "outputs": [
    {
     "name": "stdout",
     "output_type": "stream",
     "text": [
      "Original: 00000000000000000000000000000100\n",
      "Rotated:  00000000000000000000000000000001\n",
      "Result:   1\n"
     ]
    }
   ],
   "source": [
    "#Example 1: Rotate 4 right by 2 positions\n",
    "x = 4  # 00000000000000000000000000000100\n",
    "n = 2\n",
    "print(f\"Original: {bin(x)[2:].zfill(32)}\")\n",
    "\n",
    "# Apply mask and normalize\n",
    "x = x & 0xFFFFFFFF\n",
    "n = n % 32\n",
    "\n",
    "# Perform rotation\n",
    "right_shift = (x >> n) & 0xFFFFFFFF\n",
    "left_shift = (x << (32 - n)) & 0xFFFFFFFF\n",
    "rotated = right_shift | left_shift\n",
    "\n",
    "print(f\"Rotated:  {bin(rotated)[2:].zfill(32)}\")\n",
    "print(f\"Result:   {rotated}\")  "
   ]
  },
  {
   "cell_type": "code",
   "execution_count": 1401,
   "metadata": {},
   "outputs": [
    {
     "name": "stdout",
     "output_type": "stream",
     "text": [
      "Original: 00000000000000000000000000000001\n",
      "Rotated:  00000000000000000000000000000010\n",
      "Result:   2\n"
     ]
    }
   ],
   "source": [
    "#Example 2: Rotate 1 right by 31 positions\n",
    "x = 1  # 00000000000000000000000000000001\n",
    "n = 31\n",
    "print(f\"Original: {bin(x)[2:].zfill(32)}\")\n",
    "\n",
    "# Apply mask and normalize\n",
    "x = x & 0xFFFFFFFF\n",
    "n = n % 32\n",
    "\n",
    "# Perform rotation\n",
    "right_shift = (x >> n) & 0xFFFFFFFF\n",
    "left_shift = (x << (32 - n)) & 0xFFFFFFFF\n",
    "rotated = right_shift | left_shift\n",
    "\n",
    "print(f\"Rotated:  {bin(rotated)[2:].zfill(32)}\")\n",
    "print(f\"Result:   {rotated}\") "
   ]
  },
  {
   "cell_type": "markdown",
   "metadata": {},
   "source": [
    "## Rotr(Rotate Right) function"
   ]
  },
  {
   "cell_type": "code",
   "execution_count": 1402,
   "metadata": {},
   "outputs": [
    {
     "name": "stdout",
     "output_type": "stream",
     "text": [
      "Rotated by 1: 00100000000000000000000000000000\n"
     ]
    }
   ],
   "source": [
    "def rotr(x, n=1):\n",
    "    \"\"\"\n",
    "    This Rotates the bits in a 32-bit unsigned integer to the right by n places.\n",
    "    \n",
    "    Parameters:\n",
    "        x (int): The 32-bit unsigned integer to rotate\n",
    "        n (int): Number of positions to rotate right (default=1)\n",
    "        \n",
    "    Returns:\n",
    "        int: The rotated number\n",
    "    \"\"\"\n",
    "    #Ensure x is a 32-bit integer\n",
    "    x = x & 0xFFFFFFFF\n",
    "    \n",
    "    #Normalize n to be within 0-31 range\n",
    "    n = n % 32\n",
    "    \n",
    "    #Perform the rotation:\n",
    "    right = (x >> n) & 0xFFFFFFFF\n",
    "    left = (x << (32 - n)) & 0xFFFFFFFF\n",
    "    \n",
    "    return right | left\n",
    "\n",
    "#Test case\n",
    "rotatedr = (rotr(x, 3))    \n",
    "print(f\"Rotated by 1: {bin(rotatedr)[2:].zfill(32)}\")"
   ]
  },
  {
   "cell_type": "code",
   "execution_count": 1403,
   "metadata": {},
   "outputs": [],
   "source": [
    "#Test cases:\n",
    "def test_basic_rotation():\n",
    "    # Test rotating 2 by 1 position\n",
    "    # Binary: 00000000000000000000000000000010 -> 00000000000000000000000000000001\n",
    "    assert rotr(2, 1) == 1\n",
    "\n",
    "def test_multiple_positions():\n",
    "    # Test rotating 4 by 2 positions\n",
    "    # Binary: 00000000000000000000000000000100 -> 00000000000000000000000000000001\n",
    "    assert rotr(4, 2) == 1\n",
    "\n",
    "def test_wrap_around():\n",
    "    # Test rotating when bits need to wrap around\n",
    "    # Binary: 00000000000000000000000000000001 -> 10000000000000000000000000000000\n",
    "    assert rotr(1, 31) == 0x80000000\n"
   ]
  },
  {
   "cell_type": "code",
   "execution_count": 1404,
   "metadata": {},
   "outputs": [
    {
     "name": "stderr",
     "output_type": "stream",
     "text": [
      "............\n",
      "----------------------------------------------------------------------\n",
      "Ran 12 tests in 0.007s\n",
      "\n",
      "OK\n"
     ]
    }
   ],
   "source": [
    "#Run the tests:\n",
    "if __name__ == '__main__':\n",
    "    unittest.main(argv=['first-arg-is-ignored'], exit=False)"
   ]
  },
  {
   "cell_type": "code",
   "execution_count": 1405,
   "metadata": {},
   "outputs": [
    {
     "name": "stdout",
     "output_type": "stream",
     "text": [
      "Example rotations:\n",
      "Original number: 00000000000000000000000000000010\n",
      "Rotated by 1:   00000000000000000000000000000001\n"
     ]
    }
   ],
   "source": [
    "#Example usage:\n",
    "print(\"Example rotations:\")\n",
    "x = 0x2  # Binary: ...00010\n",
    "print(f\"Original number: {bin(x)[2:].zfill(32)}\")\n",
    "rotated = rotr(x, 1)\n",
    "print(f\"Rotated by 1:   {bin(rotated)[2:].zfill(32)}\")"
   ]
  },
  {
   "cell_type": "markdown",
   "metadata": {},
   "source": [
    "## Part 3: Choose Function (ch)\n",
    "\n",
    "The Choose function selects bits from either y or z based on the corresponding bit in x:\n",
    "- If a bit in x is 1, select the corresponding bit from y\n",
    "- If a bit in x is 0, select the corresponding bit from z\n",
    "\n",
    "This is like x acting as a \"selector\" between bits from y and z."
   ]
  },
  {
   "cell_type": "code",
   "execution_count": 1406,
   "metadata": {},
   "outputs": [
    {
     "name": "stdout",
     "output_type": "stream",
     "text": [
      "x (selector): 11110000111100001111000011110000\n",
      "y (when x=1): 10101010101010101010101010101010\n",
      "z (when x=0): 01010101010101010101010101010101\n"
     ]
    }
   ],
   "source": [
    "# Define our test values\n",
    "x = 0xF0F0F0F0  # 11110000111100001111000011110000 in binary (alternating 4 bits)\n",
    "y = 0xAAAAAAAA  # 10101010101010101010101010101010 in binary (alternating bits)\n",
    "z = 0x55555555  # 01010101010101010101010101010101 in binary (alternating bits)\n",
    "\n",
    "# Show original values\n",
    "print(f\"x (selector): {bin(x)[2:].zfill(32)}\")\n",
    "print(f\"y (when x=1): {bin(y)[2:].zfill(32)}\")\n",
    "print(f\"z (when x=0): {bin(z)[2:].zfill(32)}\")"
   ]
  },
  {
   "cell_type": "markdown",
   "metadata": {},
   "source": [
    "### Step 1: Ensure we have 32-bit integers\n",
    "\n",
    "First, we mask all inputs to ensure we're working with 32-bit integers:"
   ]
  },
  {
   "cell_type": "code",
   "execution_count": 1407,
   "metadata": {},
   "outputs": [],
   "source": [
    "# Apply 32-bit mask to all values\n",
    "x = x & 0xFFFFFFFF\n",
    "y = y & 0xFFFFFFFF\n",
    "z = z & 0xFFFFFFFF"
   ]
  },
  {
   "cell_type": "markdown",
   "metadata": {},
   "source": [
    "### Step 2: Perform the selection\n",
    "\n",
    "The choose function can be implemented as: (x & y) ^ (~x & z)\n",
    "\n",
    "Where:\n",
    "- (x & y) selects bits from y where x has 1s\n",
    "- (~x & z) selects bits from z where x has 0s\n",
    "- ^ (XOR) combines these two parts"
   ]
  },
  {
   "cell_type": "code",
   "execution_count": 1408,
   "metadata": {},
   "outputs": [
    {
     "name": "stdout",
     "output_type": "stream",
     "text": [
      "Bits from y (where x=1): 10100000101000001010000010100000\n",
      "Bits from z (where x=0): 00000101000001010000010100000101\n",
      "\n",
      "Final result: 10100101101001011010010110100101\n",
      "Decimal value: 2779096485\n"
     ]
    }
   ],
   "source": [
    "# Calculate the part for selecting from y\n",
    "from_y = x & y\n",
    "print(f\"Bits from y (where x=1): {bin(from_y)[2:].zfill(32)}\")\n",
    "\n",
    "# Calculate the part for selecting from z\n",
    "from_z = (~x & z) & 0xFFFFFFFF  # Need to mask again after NOT operation\n",
    "print(f\"Bits from z (where x=0): {bin(from_z)[2:].zfill(32)}\")\n",
    "\n",
    "# Combine parts\n",
    "result = from_y ^ from_z\n",
    "print(f\"\\nFinal result: {bin(result)[2:].zfill(32)}\")\n",
    "print(f\"Decimal value: {result}\")"
   ]
  },
  {
   "cell_type": "markdown",
   "metadata": {},
   "source": [
    "### Choose Function Examples\n",
    "\n",
    "Let's test the choose function with different inputs:"
   ]
  },
  {
   "cell_type": "code",
   "execution_count": 1409,
   "metadata": {},
   "outputs": [
    {
     "name": "stdout",
     "output_type": "stream",
     "text": [
      "x (selector): 11110000111100001111000011110000\n",
      "y (all 1s):   11111111111111111111111111111111\n",
      "z (all 0s):   00000000000000000000000000000000\n",
      "\n",
      "Result:       11110000111100001111000011110000\n",
      "Decimal value: 4042322160\n"
     ]
    }
   ],
   "source": [
    "# Example: x with alternating bits\n",
    "x = 0xF0F0F0F0  # 11110000111100001111000011110000\n",
    "y = 0xFFFFFFFF  # all 1s\n",
    "z = 0x00000000  # all 0s\n",
    "print(f\"x (selector): {bin(x)[2:].zfill(32)}\")\n",
    "print(f\"y (all 1s):   {bin(y)[2:].zfill(32)}\")\n",
    "print(f\"z (all 0s):   {bin(z)[2:].zfill(32)}\")\n",
    "\n",
    "# Apply the choose function\n",
    "x = x & 0xFFFFFFFF\n",
    "y = y & 0xFFFFFFFF\n",
    "z = z & 0xFFFFFFFF\n",
    "\n",
    "from_y = x & y\n",
    "from_z = (~x & z) & 0xFFFFFFFF\n",
    "result = from_y ^ from_z\n",
    "\n",
    "print(f\"\\nResult:       {bin(result)[2:].zfill(32)}\")\n",
    "print(f\"Decimal value: {result}\")\n",
    "# Result should match the pattern of x since y=1 and z=0"
   ]
  },
  {
   "cell_type": "markdown",
   "metadata": {},
   "source": [
    "## Choose function"
   ]
  },
  {
   "cell_type": "code",
   "execution_count": 1410,
   "metadata": {},
   "outputs": [],
   "source": [
    "def ch(x, y, z):\n",
    "    \"\"\"\n",
    "\n",
    "The Core Idea: Bit Selection:\n",
    "Think of x as a control switch that decides which bits to keep from y and z.\n",
    "\n",
    "If x has a 1 in a given position → Choose the bit from y.\n",
    "If x has a 0 in a given position → Choose the bit from z.\n",
    "\n",
    "    Choose function: for each bit position, selects the bit from y if the \n",
    "    corresponding bit in x is 1, else selects the bit from z.\n",
    "    \n",
    "    Parameters:\n",
    "        x (int): The selector number\n",
    "        y (int): Number to select bits from when x has 1s\n",
    "        z (int): Number to select bits from when x has 0s\n",
    "    \"\"\"\n",
    "    x = x & 0xFFFFFFFF  # Ensure 32-bit numbers\n",
    "    y = y & 0xFFFFFFFF\n",
    "    z = z & 0xFFFFFFFF\n",
    "    \n",
    "    # Formula: (x & y) ^ (~x & z)\n",
    "    # Where & is AND, ~ is NOT, ^ is XOR\n",
    "    return ((x & y) ^ (~x & z)) & 0xFFFFFFFF"
   ]
  },
  {
   "cell_type": "code",
   "execution_count": 1411,
   "metadata": {},
   "outputs": [
    {
     "name": "stderr",
     "output_type": "stream",
     "text": [
      "............\n",
      "----------------------------------------------------------------------\n",
      "Ran 12 tests in 0.007s\n",
      "\n",
      "OK\n"
     ]
    }
   ],
   "source": [
    "#Test cases:\n",
    "class TestCh(unittest.TestCase):\n",
    "    def test_basic_choice(self):\n",
    "        # If x is all 1s, result should be y\n",
    "        self.assertEqual(ch(0xFFFFFFFF, 0x5, 0x3), 0x5)\n",
    "        \n",
    "        # If x is all 0s, result should be z\n",
    "        self.assertEqual(ch(0x0, 0x5, 0x3), 0x3)\n",
    "    \n",
    "    def test_mixed_choice(self):\n",
    "        # x = 0110 (6)\n",
    "        # y = 1111 (15)\n",
    "        # z = 0000 (0)\n",
    "        # Result should be 0110 (6)\n",
    "        self.assertEqual(ch(6, 15, 0), 6)\n",
    "\n",
    "if __name__ == '__main__':\n",
    "    unittest.main(argv=['first-arg-is-ignored'], exit=False)"
   ]
  },
  {
   "cell_type": "code",
   "execution_count": 1412,
   "metadata": {},
   "outputs": [
    {
     "name": "stdout",
     "output_type": "stream",
     "text": [
      "\n",
      "Example of ch function:\n",
      "x: 0110\n",
      "y: 1111\n",
      "z: 0000\n",
      "Result: 0110\n"
     ]
    }
   ],
   "source": [
    "#Example usage:\n",
    "print(\"\\nExample of ch function:\")\n",
    "x = 0x6  # Binary: 0110\n",
    "y = 0xF  # Binary: 1111\n",
    "z = 0x0  # Binary: 0000\n",
    "result = ch(x, y, z)\n",
    "print(f\"x: {bin(x)[2:].zfill(4)}\")\n",
    "print(f\"y: {bin(y)[2:].zfill(4)}\")\n",
    "print(f\"z: {bin(z)[2:].zfill(4)}\")\n",
    "print(f\"Result: {bin(result)[2:].zfill(4)}\")"
   ]
  },
  {
   "cell_type": "markdown",
   "metadata": {},
   "source": [
    "## Part 4: Majority Function (maj)\n",
    "\n",
    "The Majority function takes a \"vote\" of the bits in x, y, and z:\n",
    "- If at least 2 out of 3 input bits are 1, the output bit is 1\n",
    "- Otherwise, the output bit is 0\n",
    "\n",
    "This is used in cryptographic functions to create consensus among inputs."
   ]
  },
  {
   "cell_type": "code",
   "execution_count": 1413,
   "metadata": {},
   "outputs": [
    {
     "name": "stdout",
     "output_type": "stream",
     "text": [
      "x: 11110000111100001111000011110000\n",
      "y: 11001100110011001100110011001100\n",
      "z: 10101010101010101010101010101010\n"
     ]
    }
   ],
   "source": [
    "# Define our test values\n",
    "x = 0xF0F0F0F0  # 11110000111100001111000011110000\n",
    "y = 0xCCCCCCCC  # 11001100110011001100110011001100\n",
    "z = 0xAAAAAAAA  # 10101010101010101010101010101010\n",
    "\n",
    "# Show original values\n",
    "print(f\"x: {bin(x)[2:].zfill(32)}\")\n",
    "print(f\"y: {bin(y)[2:].zfill(32)}\")\n",
    "print(f\"z: {bin(z)[2:].zfill(32)}\")"
   ]
  },
  {
   "cell_type": "markdown",
   "metadata": {},
   "source": [
    "### Step 1: Ensure we have 32-bit integers\n",
    "\n",
    "First, we mask all inputs to ensure we're working with 32-bit integers:"
   ]
  },
  {
   "cell_type": "code",
   "execution_count": 1414,
   "metadata": {},
   "outputs": [],
   "source": [
    "# Apply 32-bit mask to all values\n",
    "x = x & 0xFFFFFFFF\n",
    "y = y & 0xFFFFFFFF\n",
    "z = z & 0xFFFFFFFF"
   ]
  },
  {
   "cell_type": "markdown",
   "metadata": {},
   "source": [
    "### Step 2: Calculate the majority vote\n",
    "\n",
    "The majority function can be implemented as: (x & y) ^ (x & z) ^ (y & z)\n",
    "\n",
    "This formula produces 1 whenever at least two of the input bits are 1:\n",
    "- (x & y) gives 1 when both x and y are 1\n",
    "- (x & z) gives 1 when both x and z are 1\n",
    "- (y & z) gives 1 when both y and z are 1\n",
    "- XORing these together gives the majority result"
   ]
  },
  {
   "cell_type": "code",
   "execution_count": 1415,
   "metadata": {},
   "outputs": [
    {
     "name": "stdout",
     "output_type": "stream",
     "text": [
      "x AND y: 11000000110000001100000011000000\n",
      "x AND z: 10100000101000001010000010100000\n",
      "y AND z: 10001000100010001000100010001000\n",
      "\n",
      "Final result: 11101000111010001110100011101000\n",
      "Decimal value: 3907578088\n"
     ]
    }
   ],
   "source": [
    "# Calculate the three pairwise AND operations\n",
    "xy = x & y\n",
    "xz = x & z\n",
    "yz = y & z\n",
    "\n",
    "print(f\"x AND y: {bin(xy)[2:].zfill(32)}\")\n",
    "print(f\"x AND z: {bin(xz)[2:].zfill(32)}\")\n",
    "print(f\"y AND z: {bin(yz)[2:].zfill(32)}\")\n",
    "\n",
    "# Combine results with XOR\n",
    "result = (xy ^ xz ^ yz)\n",
    "print(f\"\\nFinal result: {bin(result)[2:].zfill(32)}\")\n",
    "print(f\"Decimal value: {result}\")"
   ]
  },
  {
   "cell_type": "markdown",
   "metadata": {},
   "source": [
    "### Majority Function Examples\n",
    "\n",
    "Let's test with some simpler values to understand how the majority function works:"
   ]
  },
  {
   "cell_type": "code",
   "execution_count": 1416,
   "metadata": {},
   "outputs": [
    {
     "name": "stdout",
     "output_type": "stream",
     "text": [
      "Example 1: Two inputs have 1s, one has 0s\n",
      "x: 111\n",
      "y: 111\n",
      "z: 000\n",
      "Result: 111\n",
      "Decimal: 7\n",
      "\n",
      "Example 2: Only one input has 1s\n",
      "x: 111\n",
      "y: 000\n",
      "z: 000\n",
      "Result: 000\n",
      "Decimal: 0\n"
     ]
    }
   ],
   "source": [
    "# Test with value 7 (all bits 1) and values 0 (all bits 0)\n",
    "print(\"Example 1: Two inputs have 1s, one has 0s\")\n",
    "x = 7  # 111\n",
    "y = 7  # 111\n",
    "z = 0  # 000\n",
    "print(f\"x: {bin(x)[2:].zfill(3)}\")\n",
    "print(f\"y: {bin(y)[2:].zfill(3)}\")\n",
    "print(f\"z: {bin(z)[2:].zfill(3)}\")\n",
    "\n",
    "# Calculate majority\n",
    "xy = x & y\n",
    "xz = x & z\n",
    "yz = y & z\n",
    "result = (xy ^ xz ^ yz)\n",
    "\n",
    "print(f\"Result: {bin(result)[2:].zfill(3)}\")\n",
    "print(f\"Decimal: {result}\")\n",
    "# Should give 111 (7) since for each bit position, at least 2 inputs have 1\n",
    "\n",
    "print(\"\\nExample 2: Only one input has 1s\")\n",
    "x = 7  # 111\n",
    "y = 0  # 000\n",
    "z = 0  # 000\n",
    "print(f\"x: {bin(x)[2:].zfill(3)}\")\n",
    "print(f\"y: {bin(y)[2:].zfill(3)}\")\n",
    "print(f\"z: {bin(z)[2:].zfill(3)}\")\n",
    "\n",
    "# Calculate majority\n",
    "xy = x & y\n",
    "xz = x & z\n",
    "yz = y & z\n",
    "result = (xy ^ xz ^ yz)\n",
    "\n",
    "print(f\"Result: {bin(result)[2:].zfill(3)}\")\n",
    "print(f\"Decimal: {result}\")\n",
    "# Should give 000 (0) since for each bit position, only 1 input has 1"
   ]
  },
  {
   "cell_type": "markdown",
   "metadata": {},
   "source": [
    "## Majority function"
   ]
  },
  {
   "cell_type": "code",
   "execution_count": 1417,
   "metadata": {},
   "outputs": [
    {
     "name": "stdout",
     "output_type": "stream",
     "text": [
      "x: 0111\n",
      "y: 0000\n",
      "z: 0000\n",
      "Result: 0111\n"
     ]
    }
   ],
   "source": [
    "def maj(x, y, z):\n",
    "    \"\"\"\n",
    "    Majority function: This outputs 1 in positions where at least 2 out of 3 input bits are 1, Indicating the majority.\n",
    "    \n",
    "    Parameters:\n",
    "        x (int): First 32-bit number\n",
    "        y (int): Second 32-bit number\n",
    "        z (int): Third 32-bit number\n",
    "    \"\"\"\n",
    "    x = x & 0xFFFFFFFF  # Ensure 32-bit numbers\n",
    "    y = y & 0xFFFFFFFF\n",
    "    z = z & 0xFFFFFFFF\n",
    "    \n",
    "    # Formula: (x & y) ^ (x & z) ^ (y & z)\n",
    "    # Returns 1 if at least two inputs have 1 in that position\n",
    "    return ((x & y) ^ (x & z) ^ (y & z)) & 0xFFFFFFFF\n",
    "\n",
    "result = maj(0x6, 0x5, 0x3)\n",
    "print(f\"x: {bin(x)[2:].zfill(4)}\")\n",
    "print(f\"y: {bin(y)[2:].zfill(4)}\")\n",
    "print(f\"z: {bin(z)[2:].zfill(4)}\")\n",
    "print(f\"Result: {bin(result)[2:].zfill(4)}\")"
   ]
  },
  {
   "cell_type": "code",
   "execution_count": 1418,
   "metadata": {},
   "outputs": [
    {
     "name": "stderr",
     "output_type": "stream",
     "text": [
      "............\n",
      "----------------------------------------------------------------------\n",
      "Ran 12 tests in 0.009s\n",
      "\n",
      "OK\n"
     ]
    }
   ],
   "source": [
    "#Test cases:\n",
    "class TestMaj(unittest.TestCase):\n",
    "    def test_basic_majority(self):\n",
    "        # If any two inputs are 1, output should be 1\n",
    "        self.assertEqual(maj(1, 1, 0), 1)  # Two 1s, one 0\n",
    "        self.assertEqual(maj(1, 0, 0), 0)  # One 1, two 0s\n",
    "        \n",
    "    def test_all_same(self):\n",
    "        # If all inputs are same, output should be that value\n",
    "        self.assertEqual(maj(1, 1, 1), 1)  # All 1s\n",
    "        self.assertEqual(maj(0, 0, 0), 0)  # All 0s\n",
    "    \n",
    "    def test_multiple_bits(self):\n",
    "        # Test with multiple bit positions\n",
    "        # x = 1100 (12)\n",
    "        # y = 1010 (10)\n",
    "        # z = 1001 (9)\n",
    "        # Result should be 1000 (8) - only first position has majority 1s\n",
    "        self.assertEqual(maj(12, 10, 9), 8)\n",
    "\n",
    "if __name__ == '__main__':\n",
    "    unittest.main(argv=['first-arg-is-ignored'], exit=False)"
   ]
  },
  {
   "cell_type": "code",
   "execution_count": 1419,
   "metadata": {},
   "outputs": [
    {
     "name": "stdout",
     "output_type": "stream",
     "text": [
      "\n",
      "Example of maj function:\n",
      "x: 1100\n",
      "y: 1010\n",
      "z: 1001\n",
      "Result: 1000\n"
     ]
    }
   ],
   "source": [
    "#Example usage\n",
    "print(\"\\nExample of maj function:\")\n",
    "x = 0xC  #Binary: 1100\n",
    "y = 0xA  #Binary: 1010\n",
    "z = 0x9  #Binary: 1001\n",
    "result = maj(x, y, z)\n",
    "print(f\"x: {bin(x)[2:].zfill(4)}\")\n",
    "print(f\"y: {bin(y)[2:].zfill(4)}\")\n",
    "print(f\"z: {bin(z)[2:].zfill(4)}\")\n",
    "print(f\"Result: {bin(result)[2:].zfill(4)}\")"
   ]
  },
  {
   "cell_type": "markdown",
   "metadata": {},
   "source": [
    "# Task 2: Hash Functions\n",
    "\n",
    "This task involves implementing the hash function from *The C Programming Language* by Brian Kernighan and Dennis Ritchie, testing it, and explaining why the values 31 and 101 are used.\n",
    "\n",
    "Here's the original C function:\n",
    "```c\n",
    "unsigned hash(char *s) {\n",
    "    unsigned hashval;\n",
    "    for (hashval = 0; *s != '\\0'; s++)\n",
    "        hashval = *s + 31 * hashval;\n",
    "    return hashval % 101;\n",
    "}"
   ]
  },
  {
   "cell_type": "markdown",
   "metadata": {},
   "source": [
    "## Understanding the C Hash Function\n",
    "\n",
    "Before I converting it to Python, let's understand what this function does:\n",
    "\n",
    "1. It initializes `hashval` to 0\n",
    "2. For each character in the string:\n",
    "   - It multiplies the current `hashval` by 31\n",
    "   - Adds the ASCII value of the current character\n",
    "3. Finally, it returns `hashval % 101` (the remainder when divided by 101)\n",
    "\n",
    "The function creates a unique(ish) number based on the content of the string."
   ]
  },
  {
   "cell_type": "code",
   "execution_count": 1420,
   "metadata": {},
   "outputs": [],
   "source": [
    "#31\n",
    "#31 makes sure different words get different numbers.\n",
    "\n",
    "#101\n",
    "#101 keeps the final number small and spread out evenly.\n",
    "\n",
    "# `ord(char)` gets the ASCII number for each character.\n",
    "# Example: ord('c') = 99, ord('a') = 97, ord('t') = 116\n",
    "\n",
    "\n",
    "#Example Walkthrough\n",
    "#Input: \"cat\"\n",
    "#Step\tCharacter (*s)\tASCII (*s)\tCalculation\t    hashval\n",
    "#1\t      'c'\t          99        99 + 31 * 0\t      99\n",
    "#2\t      'a'\t          97\t    97 + 31 * 99\t  3166\n",
    "#3\t      't'\t          116\t    116 + 31 * 3166\t  98262\n",
    "#4\t    '\\0'(End)\t      -\t        98262 % 101\t      14"
   ]
  },
  {
   "cell_type": "markdown",
   "metadata": {},
   "source": [
    "## Step 1: Translating to Python - Basic Structure\n",
    "\n",
    "Let's start converting this to Python. The main differences:\n",
    "- Python strings are already iterable, so we don't need pointer arithmetic\n",
    "- We'll use Python's `ord()` function to get the ASCII value of a character"
   ]
  },
  {
   "cell_type": "code",
   "execution_count": 1421,
   "metadata": {},
   "outputs": [
    {
     "name": "stdout",
     "output_type": "stream",
     "text": [
      "Test string: 'hello'\n",
      "Initial hashval: 0\n"
     ]
    }
   ],
   "source": [
    "# Initialize an empty string to test with\n",
    "s = \"hello\"\n",
    "print(f\"Test string: '{s}'\")\n",
    "\n",
    "# Initialize hash value\n",
    "hashval = 0\n",
    "print(f\"Initial hashval: {hashval}\")"
   ]
  },
  {
   "cell_type": "markdown",
   "metadata": {},
   "source": [
    "## Step 2: Process Each Character\n",
    "\n",
    "Now let's process each character in the string:\n",
    "- For each character, we'll multiply the current hash value by 31\n",
    "- Then add the ASCII value of the character"
   ]
  },
  {
   "cell_type": "code",
   "execution_count": 1422,
   "metadata": {},
   "outputs": [
    {
     "name": "stdout",
     "output_type": "stream",
     "text": [
      "Character: 'h', ASCII value: 104\n",
      "Updated hashval: 104\n",
      "Character: 'e', ASCII value: 101\n",
      "Updated hashval: 3325\n",
      "Character: 'l', ASCII value: 108\n",
      "Updated hashval: 103183\n",
      "Character: 'l', ASCII value: 108\n",
      "Updated hashval: 3198781\n",
      "Character: 'o', ASCII value: 111\n",
      "Updated hashval: 99162322\n"
     ]
    }
   ],
   "source": [
    "# Process each character\n",
    "for char in s:\n",
    "    # Get ASCII value of character\n",
    "    char_value = ord(char)\n",
    "    print(f\"Character: '{char}', ASCII value: {char_value}\")\n",
    "    \n",
    "    # Update hash value\n",
    "    hashval = char_value + 31 * hashval\n",
    "    print(f\"Updated hashval: {hashval}\")"
   ]
  },
  {
   "cell_type": "markdown",
   "metadata": {},
   "source": [
    "## Step 3: Apply Modulo Operation\n",
    "\n",
    "Finally, we take the remainder when dividing by 101:"
   ]
  },
  {
   "cell_type": "code",
   "execution_count": 1423,
   "metadata": {},
   "outputs": [
    {
     "name": "stdout",
     "output_type": "stream",
     "text": [
      "Final hash value (hashval % 101): 17\n"
     ]
    }
   ],
   "source": [
    "# Apply modulo 101\n",
    "result = hashval % 101\n",
    "print(f\"Final hash value (hashval % 101): {result}\")"
   ]
  },
  {
   "cell_type": "markdown",
   "metadata": {},
   "source": [
    "# Task 2: Hash Functions"
   ]
  },
  {
   "cell_type": "code",
   "execution_count": 1424,
   "metadata": {},
   "outputs": [],
   "source": [
    "def hash_string(s):\n",
    "    \"\"\"\n",
    "    Convert K&R C hash function to Python.\n",
    "    Takes a string and produces a hash value.\n",
    "    \"\"\"\n",
    "    hashval = 0\n",
    "    for char in s:\n",
    "        hashval = ord(char) + 31 * hashval\n",
    "    return hashval % 101"
   ]
  },
  {
   "cell_type": "code",
   "execution_count": 1425,
   "metadata": {},
   "outputs": [
    {
     "name": "stderr",
     "output_type": "stream",
     "text": [
      "............\n",
      "----------------------------------------------------------------------\n",
      "Ran 12 tests in 0.012s\n",
      "\n",
      "OK\n"
     ]
    }
   ],
   "source": [
    "#Test cases\n",
    "class TestHashFunction(unittest.TestCase):\n",
    "    def test_basic_strings(self):\n",
    "        # Test different strings produce different hashes\n",
    "        self.assertNotEqual(hash_string(\"hello\"), hash_string(\"world\"))\n",
    "        \n",
    "    def test_empty_string(self):\n",
    "        # Test empty string\n",
    "        self.assertEqual(hash_string(\"\"), 0)\n",
    "        \n",
    "    def test_same_strings(self):\n",
    "        # Test same string produces same hash\n",
    "        self.assertEqual(hash_string(\"test\"), hash_string(\"test\"))\n",
    "\n",
    "if __name__ == '__main__':\n",
    "    unittest.main(argv=['first-arg-is-ignored'], exit=False)\n"
   ]
  },
  {
   "cell_type": "code",
   "execution_count": 1426,
   "metadata": {},
   "outputs": [
    {
     "name": "stdout",
     "output_type": "stream",
     "text": [
      "Example hashes:\n",
      "Hash of 'hello': 17\n",
      "Hash of 'world': 34\n",
      "Hash of 'python': 91\n",
      "Hash of 'hash': 15\n"
     ]
    }
   ],
   "source": [
    "#Example usage\n",
    "print(\"Example hashes:\")\n",
    "test_strings = [\"hello\", \"world\", \"python\", \"hash\"]\n",
    "for s in test_strings:\n",
    "    print(f\"Hash of '{s}': {hash_string(s)}\")"
   ]
  },
  {
   "cell_type": "markdown",
   "metadata": {},
   "source": [
    "# Task 3: SHA256\n",
    "\n",
    "This task involves implementing a Python function that calculates the SHA256 padding for a given file. The SHA256 algorithm requires specific padding rules to ensure the input message length is a multiple of 512 bits.\n",
    "\n",
    "According to the specification, the padding consists of:\n",
    "1. A `1` bit appended to the message\n",
    "2. Enough `0` bits so the length of the padded message is the smallest possible multiple of 512 bits, minus 64 bits\n",
    "3. The original message length (in bits) as a 64-bit big-endian integer"
   ]
  },
  {
   "cell_type": "markdown",
   "metadata": {},
   "source": [
    "## Understanding SHA256 Padding\n",
    "\n",
    "SHA256 operates on blocks of 512 bits (64 bytes). When a message doesn't perfectly fill these blocks, padding is applied. The padding follows these specific rules:\n",
    "\n",
    "1. **Append a Single '1' Bit**: First, a single '1' bit is added after the message\n",
    "2. **Add '0' Bits**: Then, enough '0' bits are added so that the length of the message plus padding (plus the 64-bit length field) is a multiple of 512 bits\n",
    "3. **Append the Message Length**: Finally, the original message length (in bits) is added as a 64-bit big-endian integer\n",
    "\n",
    "For example, with the message \"abc\" (which is 3 bytes = 24 bits):\n",
    "- Append '1' bit: Makes 25 bits\n",
    "- Add '0' bits: We need `(512 - 25 - 64) mod 512 = 423` zero bits\n",
    "- Append message length (24) as 64-bit big-endian integer\n",
    "\n",
    "The padding ensures integrity in the hashing process."
   ]
  },
  {
   "cell_type": "markdown",
   "metadata": {},
   "source": [
    "## Step 1: Reading the File\n",
    "\n",
    "First, we need to read the content of the file to be padded:"
   ]
  },
  {
   "cell_type": "code",
   "execution_count": 1427,
   "metadata": {},
   "outputs": [
    {
     "name": "stdout",
     "output_type": "stream",
     "text": [
      "File content: b'abc'\n",
      "Content length in bytes: 3\n",
      "Content length in bits: 24\n"
     ]
    }
   ],
   "source": [
    "def read_file_content(file_path):\n",
    "    \"\"\"Read the content of a file in binary mode.\"\"\"\n",
    "    with open(file_path, 'rb') as f:\n",
    "        content = f.read()\n",
    "    return content\n",
    "\n",
    "# For testing, let's create a sample file with 'abc'\n",
    "with open('sample.txt', 'wb') as f:\n",
    "    f.write(b'abc')\n",
    "\n",
    "# Read the content\n",
    "file_content = read_file_content('sample.txt')\n",
    "print(f\"File content: {file_content}\")\n",
    "print(f\"Content length in bytes: {len(file_content)}\")\n",
    "print(f\"Content length in bits: {len(file_content) * 8}\")"
   ]
  },
  {
   "cell_type": "markdown",
   "metadata": {},
   "source": [
    "## Step 2: Calculate Padding Requirements\n",
    "\n",
    "Now we need to determine how many bits of padding are required:\n",
    "1. We start with the original message length in bits\n",
    "2. Add 1 for the appended '1' bit\n",
    "3. We need to add enough '0' bits so the total length (including the 64-bit length field) is a multiple of 512 bits"
   ]
  },
  {
   "cell_type": "code",
   "execution_count": 1428,
   "metadata": {},
   "outputs": [
    {
     "name": "stdout",
     "output_type": "stream",
     "text": [
      "Original length in bits: 24\n",
      "Required padding length in bits: 423\n",
      "Total length after padding (bits): 512\n",
      "Which is 1 blocks of 512 bits\n"
     ]
    }
   ],
   "source": [
    "# Calculate the required padding\n",
    "original_length_bits = len(file_content) * 8\n",
    "print(f\"Original length in bits: {original_length_bits}\")\n",
    "\n",
    "# Calculate how many bits we need to pad\n",
    "# We need: original + 1 + padding + 64 bits = multiple of 512\n",
    "# So: (original + 1 + padding + 64) % 512 = 0\n",
    "padding_length = 512 - ((original_length_bits + 1 + 64) % 512)\n",
    "if padding_length == 512:\n",
    "    padding_length = 0  # No padding needed if already aligned\n",
    "\n",
    "print(f\"Required padding length in bits: {padding_length}\")\n",
    "print(f\"Total length after padding (bits): {original_length_bits + 1 + padding_length + 64}\")\n",
    "print(f\"Which is {(original_length_bits + 1 + padding_length + 64) // 512} blocks of 512 bits\")"
   ]
  },
  {
   "cell_type": "markdown",
   "metadata": {},
   "source": [
    "## Step 3: Create the Padding\n",
    "\n",
    "Now we'll create the actual padding bytes:\n",
    "1. Start with a byte containing a single '1' bit followed by seven '0' bits (0x80)\n",
    "2. Add the required number of zero bytes\n",
    "3. Append the original length as a 64-bit (8-byte) big-endian integer"
   ]
  },
  {
   "cell_type": "code",
   "execution_count": 1429,
   "metadata": {},
   "outputs": [
    {
     "name": "stdout",
     "output_type": "stream",
     "text": [
      "Padding bytes created: 61 bytes\n"
     ]
    }
   ],
   "source": [
    "# Create the padding\n",
    "padding = bytearray()\n",
    "\n",
    "# First byte is 0x80 (10000000 in binary - our 1 bit followed by 7 zeros)\n",
    "padding.append(0x80)\n",
    "\n",
    "# Add the zero bytes\n",
    "zero_bytes = (padding_length - 7) // 8  # Convert bits to bytes (subtract 7 for the first byte)\n",
    "padding.extend([0] * zero_bytes)\n",
    "\n",
    "# Add the original length as a 64-bit big-endian value\n",
    "padding.extend(original_length_bits.to_bytes(8, byteorder='big'))\n",
    "\n",
    "print(f\"Padding bytes created: {len(padding)} bytes\")"
   ]
  },
  {
   "cell_type": "markdown",
   "metadata": {},
   "source": [
    "## Step 4: Format the Padding in Hex\n",
    "\n",
    "According to the task requirements, we need to print the padding in hex format:"
   ]
  },
  {
   "cell_type": "code",
   "execution_count": 1430,
   "metadata": {},
   "outputs": [
    {
     "name": "stdout",
     "output_type": "stream",
     "text": [
      "Padding in hex format:\n",
      "80 00 00 00 00 00 00 00 00 00 00 00 00 00 00 00 00 00 00 00 00 00 00 00 00 00 00 00 00 00 00 00 00 00 00 00 00 00 00 00 00 00 00 00 00 00 00 00 00 00 00 00 00 00 00 00 00 00 00 00 18\n"
     ]
    }
   ],
   "source": [
    "# Convert padding to hex format\n",
    "hex_padding = ' '.join(f'{b:02x}' for b in padding)\n",
    "print(\"Padding in hex format:\")\n",
    "print(hex_padding)\n",
    "#print('\\n'.join(' '.join(hex_padding[i:i+48].split()) \n",
    "                    #for i in range(0, len(hex_padding), 48)))"
   ]
  },
  {
   "cell_type": "markdown",
   "metadata": {},
   "source": [
    "## Task 3: SHA256 function"
   ]
  },
  {
   "cell_type": "code",
   "execution_count": 1431,
   "metadata": {},
   "outputs": [],
   "source": [
    "def calculate_sha256_padding(file_path):\n",
    "    \"\"\"\n",
    "    Calculate SHA256 padding for a given file.\n",
    "    \"\"\"\n",
    "    # Read the file content\n",
    "    with open(file_path, 'rb') as f: #The file is opened in binary mode (rb) (so no text encoding issues)\n",
    "        content = f.read()\n",
    "    \n",
    "    # Calculate original length in bits\n",
    "    original_length_bits = len(content) * 8 #len(content) gives the number of bytes in the file. Multiplying by 8 converts it to bits.\n",
    "                                            #\"abc\" is 3 bytes → 3 * 8 = 24 bits . \"hello\" (5 bytes) → 5 * 8 = 40 bits\n",
    "    \n",
    "    # Calculate padding length to align to 512 bits\n",
    "    padding_length = 512 - ((original_length_bits + 1 + 64) % 512)\n",
    "    if padding_length == 0:\n",
    "        padding_length = 512  # Always need at least one full block of padding\n",
    "    \n",
    "    \n",
    "    # Create padding\n",
    "    # First byte is 0x80 (10000000 in binary - our 1 bit followed by 7 zeros)\n",
    "    padding = bytearray([0x80])\n",
    "    \n",
    "    # Add the zero bytes - corrected to use -8\n",
    "    padding.extend([0] * ((padding_length - 8) // 8))\n",
    "    \n",
    "    # Add the original length as a 64-bit big-endian number\n",
    "    padding.extend(original_length_bits.to_bytes(8, byteorder='big'))\n",
    "    \n",
    "    # Format and print padding in hex\n",
    "    hex_padding = ' '.join(f'{b:02x}' for b in padding)\n",
    "    print('\\n'.join(' '.join(hex_padding[i:i+48].split()) \n",
    "                    for i in range(0, len(hex_padding), 48)))\n",
    "    \n",
    "    return padding"
   ]
  },
  {
   "cell_type": "code",
   "execution_count": 1432,
   "metadata": {},
   "outputs": [],
   "source": [
    "\n",
    "# Test with the example from the specification\n",
    "def test_sha256_padding():\n",
    "    # Create a test file with 'abc'\n",
    "    with open('test.txt', 'wb') as f:\n",
    "        f.write(b'abc')\n",
    "    \n",
    "    print(\"Testing SHA256 padding for 'abc':\")\n",
    "    padding = calculate_sha256_padding('test.txt')\n",
    "    \n",
    "    # Verify first byte is 0x80\n",
    "    assert padding[0] == 0x80\n",
    "    \n",
    "    # Verify all middle bytes are 0\n",
    "    assert all(b == 0 for b in padding[1:-8])\n",
    "    \n",
    "    # Verify length (24 bits = 0x18) is at the end\n",
    "    assert padding[-1] == 0x18"
   ]
  },
  {
   "cell_type": "code",
   "execution_count": 1433,
   "metadata": {},
   "outputs": [
    {
     "name": "stdout",
     "output_type": "stream",
     "text": [
      "Testing SHA256 padding for 'abc':\n",
      "80 00 00 00 00 00 00 00 00 00 00 00 00 00 00 00\n",
      "00 00 00 00 00 00 00 00 00 00 00 00 00 00 00 00\n",
      "00 00 00 00 00 00 00 00 00 00 00 00 00 00 00 00\n",
      "00 00 00 00 00 00 00 00 00 00 00 18\n"
     ]
    }
   ],
   "source": [
    "# Run test\n",
    "if __name__ == '__main__':\n",
    "    test_sha256_padding()"
   ]
  },
  {
   "cell_type": "markdown",
   "metadata": {},
   "source": [
    "# Task 4: Prime Numbers\n",
    "\n",
    "This task requires calculating the first 100 prime numbers using two different algorithms, and explaining how each algorithm works.\n",
    "\n",
    "Prime numbers are natural numbers greater than 1 that are only divisible by 1 and themselves (e.g., 2, 3, 5, 7, 11, etc.)."
   ]
  },
  {
   "cell_type": "markdown",
   "metadata": {},
   "source": [
    "## Algorithm 1: Sieve of Eratosthenes\n",
    "\n",
    "The Sieve of Eratosthenes is one of the most efficient ways to find all primes up to a given limit. Here's how it works:\n",
    "\n",
    "1. Create a list of consecutive integers from 2 through n: (2, 3, 4, ..., n)\n",
    "2. Start with the first prime number, p = 2\n",
    "3. Mark all multiples of p (p×2, p×3, p×4, ...) as non-prime\n",
    "4. Find the next unmarked number after p, which is the next prime\n",
    "5. Repeat steps 3 and 4 until p > √n\n",
    "\n",
    "The algorithm is efficient because it eliminates multiple composite numbers in each pass."
   ]
  },
  {
   "cell_type": "code",
   "execution_count": 1434,
   "metadata": {},
   "outputs": [
    {
     "name": "stdout",
     "output_type": "stream",
     "text": [
      "To find 100 primes, we'll use a sieve of size 921\n"
     ]
    }
   ],
   "source": [
    "import math\n",
    "\n",
    "# We need to determine how large our sieve should be\n",
    "# to ensure we find at least 100 primes\n",
    "n = 100  # Number of primes we want\n",
    "# The nth prime is approximately n*ln(n) + n*ln(ln(n))\n",
    "size_estimate = int(n * math.log(n) * 2)  \n",
    "\n",
    "print(f\"To find {n} primes, we'll use a sieve of size {size_estimate}\")\n",
    "\n",
    "# Create our array of potential primes (all initially considered prime)\n",
    "is_prime = [True] * size_estimate\n",
    "# 0 and 1 are not prime\n",
    "is_prime[0] = is_prime[1] = False"
   ]
  },
  {
   "cell_type": "markdown",
   "metadata": {},
   "source": [
    "## Step 2: Implementing the Sieve\n",
    "\n",
    "Now we'll implement the core of the Sieve of Eratosthenes:\n",
    "1. We only need to check potential primes up to the square root of our maximum value\n",
    "2. For each prime number, we'll mark all its multiples as non-prime"
   ]
  },
  {
   "cell_type": "code",
   "execution_count": 1435,
   "metadata": {},
   "outputs": [
    {
     "name": "stdout",
     "output_type": "stream",
     "text": [
      "Found 157 prime numbers in total\n"
     ]
    }
   ],
   "source": [
    "# Execute the sieve algorithm\n",
    "# We only need to check up to sqrt(size_estimate)\n",
    "for i in range(2, int(math.sqrt(size_estimate)) + 1):\n",
    "    # If i is marked as prime\n",
    "    if is_prime[i]:\n",
    "        # Mark all multiples of i as non-prime\n",
    "        for j in range(i*i, size_estimate, i):\n",
    "            is_prime[j] = False\n",
    "\n",
    "# Let's see how many primes we found\n",
    "prime_count = sum(is_prime)\n",
    "print(f\"Found {prime_count} prime numbers in total\")"
   ]
  },
  {
   "cell_type": "markdown",
   "metadata": {},
   "source": [
    "## Step 3: Extracting the First 100 Primes\n",
    "\n",
    "Now that we've marked all the numbers in our range, we can extract the first 100 prime numbers:"
   ]
  },
  {
   "cell_type": "code",
   "execution_count": 1436,
   "metadata": {},
   "outputs": [
    {
     "name": "stdout",
     "output_type": "stream",
     "text": [
      "First 10 primes found: [2, 3, 5, 7, 11, 13, 17, 19, 23, 29]\n",
      "100th prime: 541\n"
     ]
    }
   ],
   "source": [
    "# Collect the first 100 primes from our sieve\n",
    "sieve_primes = []\n",
    "for i in range(size_estimate):\n",
    "    if is_prime[i]:\n",
    "        sieve_primes.append(i)\n",
    "        if len(sieve_primes) == n:\n",
    "            break\n",
    "\n",
    "print(f\"First 10 primes found: {sieve_primes[:10]}\")\n",
    "print(f\"100th prime: {sieve_primes[-1]}\")"
   ]
  },
  {
   "cell_type": "markdown",
   "metadata": {},
   "source": [
    "## Algorithm 2: Trial Division\n",
    "\n",
    "Trial division is one of the simplest methods for checking if a number is prime. Here's how it works:\n",
    "\n",
    "1. Start testing numbers from 2 upward\n",
    "2. For each number, check if it's divisible by any integer from 2 to its square root\n",
    "3. If no divisors are found, the number is prime\n",
    "4. Continue until we find the desired number of primes\n",
    "\n",
    "While simpler to understand, this method is less efficient than the Sieve of Eratosthenes for finding multiple primes."
   ]
  },
  {
   "cell_type": "code",
   "execution_count": 1437,
   "metadata": {},
   "outputs": [
    {
     "name": "stdout",
     "output_type": "stream",
     "text": [
      "2 is prime: True\n",
      "3 is prime: True\n",
      "4 is prime: False\n",
      "5 is prime: True\n",
      "6 is prime: False\n",
      "7 is prime: True\n",
      "8 is prime: False\n",
      "9 is prime: False\n",
      "10 is prime: False\n",
      "11 is prime: True\n"
     ]
    }
   ],
   "source": [
    "# Define a function to check if a number is prime using trial division\n",
    "def is_prime_trial_division(num):\n",
    "    \"\"\"\n",
    "    Check if a number is prime using trial division.\n",
    "    \"\"\"\n",
    "    # 0 and 1 are not prime\n",
    "    if num < 2:\n",
    "        return False\n",
    "    \n",
    "    # 2 is the only even prime number\n",
    "    if num == 2:\n",
    "        return True\n",
    "    \n",
    "    # All other even numbers are not prime\n",
    "    if num % 2 == 0:\n",
    "        return False\n",
    "    \n",
    "    # Check only odd numbers from 3 to sqrt(num)\n",
    "    for i in range(3, int(math.sqrt(num)) + 1, 2):\n",
    "        if num % i == 0:\n",
    "            return False\n",
    "    \n",
    "    return True\n",
    "\n",
    "# Test with a few numbers\n",
    "test_numbers = [2, 3, 4, 5, 6, 7, 8, 9, 10, 11]\n",
    "for num in test_numbers:\n",
    "    print(f\"{num} is prime: {is_prime_trial_division(num)}\")"
   ]
  },
  {
   "cell_type": "markdown",
   "metadata": {},
   "source": [
    "## Step 2: Finding First 100 Primes with Trial Division\n",
    "\n",
    "Now we'll use our trial division function to find the first 100 prime numbers:"
   ]
  },
  {
   "cell_type": "code",
   "execution_count": 1438,
   "metadata": {},
   "outputs": [
    {
     "name": "stdout",
     "output_type": "stream",
     "text": [
      "First 10 primes found: [2, 3, 5, 7, 11, 13, 17, 19, 23, 29]\n",
      "100th prime: 541\n"
     ]
    }
   ],
   "source": [
    "# Find the first 100 primes using trial division\n",
    "trial_division_primes = []\n",
    "num = 2  # Start checking from 2\n",
    "\n",
    "while len(trial_division_primes) < n:\n",
    "    if is_prime_trial_division(num):\n",
    "        trial_division_primes.append(num)\n",
    "    num += 1\n",
    "\n",
    "print(f\"First 10 primes found: {trial_division_primes[:10]}\")\n",
    "print(f\"100th prime: {trial_division_primes[-1]}\")"
   ]
  },
  {
   "cell_type": "markdown",
   "metadata": {},
   "source": [
    "## Comparing the Results\n",
    "\n",
    "Let's verify both algorithms produce the same list of prime numbers:"
   ]
  },
  {
   "cell_type": "code",
   "execution_count": 1439,
   "metadata": {},
   "outputs": [
    {
     "name": "stdout",
     "output_type": "stream",
     "text": [
      "Do both algorithms produce the same list of primes? True\n"
     ]
    }
   ],
   "source": [
    "# Check if both methods found the same primes\n",
    "primes_match = sieve_primes == trial_division_primes\n",
    "print(f\"Do both algorithms produce the same list of primes? {primes_match}\")\n",
    "\n",
    "# If there's a mismatch, identify where\n",
    "if not primes_match:\n",
    "    for i in range(min(len(sieve_primes), len(trial_division_primes))):\n",
    "        if sieve_primes[i] != trial_division_primes[i]:\n",
    "            print(f\"First mismatch at position {i}: {sieve_primes[i]} vs {trial_division_primes[i]}\")\n",
    "            break"
   ]
  },
  {
   "cell_type": "markdown",
   "metadata": {},
   "source": [
    "## Comparing Algorithm Performance\n",
    "\n",
    "Let's compare how efficiently each algorithm finds the primes:"
   ]
  },
  {
   "cell_type": "code",
   "execution_count": 1440,
   "metadata": {},
   "outputs": [
    {
     "name": "stdout",
     "output_type": "stream",
     "text": [
      "Finding 10 primes:\n",
      "  Sieve of Eratosthenes: 0.000000 seconds\n",
      "  Trial Division: 0.000000 seconds\n",
      "  Ratio: Cannot calculate (sieve time too small)\n",
      "\n",
      "Finding 50 primes:\n",
      "  Sieve of Eratosthenes: 0.000000 seconds\n",
      "  Trial Division: 0.000000 seconds\n",
      "  Ratio: Cannot calculate (sieve time too small)\n",
      "\n",
      "Finding 100 primes:\n",
      "  Sieve of Eratosthenes: 0.000000 seconds\n",
      "  Trial Division: 0.000000 seconds\n",
      "  Ratio: Cannot calculate (sieve time too small)\n",
      "\n",
      "Finding 200 primes:\n",
      "  Sieve of Eratosthenes: 0.000000 seconds\n",
      "  Trial Division: 0.008382 seconds\n",
      "  Ratio: Cannot calculate (sieve time too small)\n",
      "\n",
      "Finding 500 primes:\n",
      "  Sieve of Eratosthenes: 0.000709 seconds\n",
      "  Trial Division: 0.000306 seconds\n",
      "  Ratio (Trial/Sieve): 0.43x\n",
      "\n"
     ]
    }
   ],
   "source": [
    "import time\n",
    "\n",
    "# Function to time the Sieve of Eratosthenes\n",
    "def time_sieve(n):\n",
    "    start_time = time.time()\n",
    "    \n",
    "    # Similar implementation as before\n",
    "    size_estimate = int(n * math.log(n) * 2)\n",
    "    is_prime = [True] * size_estimate\n",
    "    is_prime[0] = is_prime[1] = False\n",
    "    \n",
    "    for i in range(2, int(math.sqrt(size_estimate)) + 1):\n",
    "        if is_prime[i]:\n",
    "            for j in range(i*i, size_estimate, i):\n",
    "                is_prime[j] = False\n",
    "    \n",
    "    primes = []\n",
    "    for i in range(size_estimate):\n",
    "        if is_prime[i]:\n",
    "            primes.append(i)\n",
    "            if len(primes) == n:\n",
    "                break\n",
    "    \n",
    "    end_time = time.time()\n",
    "    return primes, end_time - start_time\n",
    "\n",
    "# Function to time Trial Division\n",
    "def time_trial_division(n):\n",
    "    start_time = time.time()\n",
    "    \n",
    "    primes = []\n",
    "    num = 2\n",
    "    while len(primes) < n:\n",
    "        if is_prime_trial_division(num):\n",
    "            primes.append(num)\n",
    "        num += 1\n",
    "    \n",
    "    end_time = time.time()\n",
    "    return primes, end_time - start_time\n",
    "\n",
    "# Compare times for different values of n\n",
    "for test_n in [10, 50, 100, 200, 500]:\n",
    "    sieve_primes, sieve_time = time_sieve(test_n)\n",
    "    trial_primes, trial_time = time_trial_division(test_n)\n",
    "    \n",
    "    print(f\"Finding {test_n} primes:\")\n",
    "    print(f\"  Sieve of Eratosthenes: {sieve_time:.6f} seconds\")\n",
    "    print(f\"  Trial Division: {trial_time:.6f} seconds\")\n",
    "    \n",
    "    # Avoid division by zero\n",
    "    if sieve_time > 0:\n",
    "        print(f\"  Ratio (Trial/Sieve): {trial_time/sieve_time:.2f}x\\n\")\n",
    "    else:\n",
    "        print(f\"  Ratio: Cannot calculate (sieve time too small)\\n\")"
   ]
  },
  {
   "cell_type": "markdown",
   "metadata": {},
   "source": [
    "# Task 4: Prime Numbers"
   ]
  },
  {
   "cell_type": "code",
   "execution_count": 1441,
   "metadata": {},
   "outputs": [
    {
     "name": "stdout",
     "output_type": "stream",
     "text": [
      "[2, 3, 5, 7, 11, 13, 17, 19, 23, 29]\n"
     ]
    }
   ],
   "source": [
    "def sieve_of_eratosthenes(n):\n",
    "    \"\"\"\n",
    "    Find prime numbers using Sieve of Eratosthenes algorithm.\n",
    "    Returns the first n prime numbers.\n",
    "    \n",
    "    :param n: Number of primes to find\n",
    "    :return: List of first n primes\n",
    "    \"\"\"\n",
    "    # Estimate an upper bound for the nth prime number. \n",
    "    # This formula gives a size slightly larger than necessary to ensure we have at least n primes.\n",
    "    size = max(2, int(n * (math.log(n) + math.log(math.log(n)))))\n",
    "\n",
    "    # Initialize all numbers as potentially prime\n",
    "    is_prime = [True] * (size + 1)\n",
    "\n",
    "    # 0 and 1 are not prime\n",
    "    is_prime[0] = is_prime[1] = False\n",
    "\n",
    "    # Loop through numbers from 2 to the square root of size\n",
    "    # We only need to check up to sqrt(size) because if a number n isn't prime,\n",
    "    # it must have a factor less than or equal to sqrt(n)\n",
    "    for i in range(2, int(math.sqrt(size)) + 1):\n",
    "        if is_prime[i]:  # If i is prime\n",
    "            # Mark all multiples of i starting from i*i as not prime\n",
    "            # We start from i*i because all smaller multiples would have been \n",
    "            # marked by smaller primes\n",
    "            for j in range(i * i, size + 1, i):  \n",
    "                is_prime[j] = False\n",
    "\n",
    "    # Collect all numbers that are still marked as prime\n",
    "    primes = [num for num in range(2, size + 1) if is_prime[num]]\n",
    "    # Return only the first n primes\n",
    "    return primes[:n]\n",
    "print(sieve_of_eratosthenes(10))\n"
   ]
  },
  {
   "cell_type": "code",
   "execution_count": 1442,
   "metadata": {},
   "outputs": [
    {
     "name": "stdout",
     "output_type": "stream",
     "text": [
      "[2, 3, 5, 7, 11, 13, 17, 19, 23, 29]\n"
     ]
    }
   ],
   "source": [
    "def trial_division(n):\n",
    "    \"\"\"\n",
    "    Find prime numbers using Trial Division method.\n",
    "    Returns the first n prime numbers.\n",
    "    \n",
    "    :param n: Number of primes to find\n",
    "    :return: List of first n primes\n",
    "    \"\"\"\n",
    "    def is_prime(num):\n",
    "        # Numbers less than 2 are not prime\n",
    "        if num < 2:\n",
    "            return False\n",
    "        # 2 is the only even prime number\n",
    "        if num == 2:\n",
    "            return True\n",
    "        # Even numbers other than 2 are not prime\n",
    "        if num % 2 == 0:\n",
    "            return False\n",
    "        \n",
    "        # Check divisibility by odd numbers up to the square root of num\n",
    "        # We only need to check up to sqrt(num) because if num has a factor larger than sqrt(num),\n",
    "        # it must also have a corresponding factor smaller than sqrt(num)\n",
    "        for i in range(3, int(math.sqrt(num)) + 1, 2):\n",
    "            if num % i == 0:\n",
    "                return False\n",
    "        return True\n",
    "\n",
    "    primes = []\n",
    "    num = 2\n",
    "    while len(primes) < n:\n",
    "        # If the current number is prime, add it to the list\n",
    "        if is_prime(num):\n",
    "            primes.append(num)\n",
    "        # Move to the next number. We skip even numbers after 2 to speed up\n",
    "        num += 1 if num % 2 == 0 else 2  \n",
    "    return primes\n",
    "print(trial_division(10))"
   ]
  },
  {
   "cell_type": "code",
   "execution_count": 1443,
   "metadata": {},
   "outputs": [
    {
     "name": "stdout",
     "output_type": "stream",
     "text": [
      "First 100 primes using Sieve of Eratosthenes:\n",
      "[2, 3, 5, 7, 11, 13, 17, 19, 23, 29, 31, 37, 41, 43, 47, 53, 59, 61, 67, 71, 73, 79, 83, 89, 97, 101, 103, 107, 109, 113, 127, 131, 137, 139, 149, 151, 157, 163, 167, 173, 179, 181, 191, 193, 197, 199, 211, 223, 227, 229, 233, 239, 241, 251, 257, 263, 269, 271, 277, 281, 283, 293, 307, 311, 313, 317, 331, 337, 347, 349, 353, 359, 367, 373, 379, 383, 389, 397, 401, 409, 419, 421, 431, 433, 439, 443, 449, 457, 461, 463, 467, 479, 487, 491, 499, 503, 509, 521, 523, 541]\n",
      "\n",
      "First 100 primes using Trial Division:\n",
      "[2, 3, 5, 7, 11, 13, 17, 19, 23, 29, 31, 37, 41, 43, 47, 53, 59, 61, 67, 71, 73, 79, 83, 89, 97, 101, 103, 107, 109, 113, 127, 131, 137, 139, 149, 151, 157, 163, 167, 173, 179, 181, 191, 193, 197, 199, 211, 223, 227, 229, 233, 239, 241, 251, 257, 263, 269, 271, 277, 281, 283, 293, 307, 311, 313, 317, 331, 337, 347, 349, 353, 359, 367, 373, 379, 383, 389, 397, 401, 409, 419, 421, 431, 433, 439, 443, 449, 457, 461, 463, 467, 479, 487, 491, 499, 503, 509, 521, 523, 541]\n"
     ]
    }
   ],
   "source": [
    "# Test both algorithms\n",
    "n = 100  # Get first 100 primes\n",
    "print(\"First 100 primes using Sieve of Eratosthenes:\")\n",
    "sieve_primes = sieve_of_eratosthenes(n)\n",
    "print(sieve_primes)\n",
    "\n",
    "print(\"\\nFirst 100 primes using Trial Division:\")\n",
    "trial_primes = trial_division(n)\n",
    "print(trial_primes)\n",
    "\n",
    "# Verify both algorithms give same result\n",
    "assert sieve_primes == trial_primes, \"Algorithms gave different results!\""
   ]
  },
  {
   "cell_type": "markdown",
   "metadata": {},
   "source": [
    "# Task 5: Roots"
   ]
  },
  {
   "cell_type": "code",
   "execution_count": 1444,
   "metadata": {},
   "outputs": [],
   "source": [
    "import numpy as np"
   ]
  },
  {
   "cell_type": "code",
   "execution_count": 1445,
   "metadata": {},
   "outputs": [
    {
     "name": "stdout",
     "output_type": "stream",
     "text": [
      "[2, 3, 5, 7, 11, 13, 17, 19, 23, 29]\n"
     ]
    }
   ],
   "source": [
    "def get_first_n_primes(n):\n",
    "    \"\"\"\n",
    "    Get the first n prime numbers using the Sieve of Eratosthenes algorithm.\n",
    "    \n",
    "    Parameters:\n",
    "        n (int): Number of primes to find\n",
    "        \n",
    "    Returns:\n",
    "        list: First n prime numbers\n",
    "    \"\"\"\n",
    "    size = int(n * math.log(n) * 2) #Size estimation\n",
    "    is_prime = [True] * size\n",
    "    is_prime[0] = is_prime[1] = False\n",
    "\n",
    "    for i in range(2, int(size ** 0.5) + 1):\n",
    "        if is_prime[i]:\n",
    "            for j in range(i * i, size, i):\n",
    "                is_prime[j] = False\n",
    "\n",
    "    primes = []\n",
    "    i = 2\n",
    "    while len(primes) < n:\n",
    "        if is_prime[i]:\n",
    "            primes.append(i)\n",
    "        i += 1\n",
    "\n",
    "    return primes\n",
    "\n",
    "print(get_first_n_primes(10))"
   ]
  },
  {
   "cell_type": "code",
   "execution_count": 1446,
   "metadata": {},
   "outputs": [
    {
     "name": "stdout",
     "output_type": "stream",
     "text": [
      "00100100\n"
     ]
    }
   ],
   "source": [
    "def get_fractional_bits(number, bits=32):\n",
    "    \"\"\"Extract the first 'bits' bits of the fractional part of a number.\"\"\"\n",
    "    frac_part = number - math.floor(number)\n",
    "\n",
    "    #Convert to binary and extract bits\n",
    "    bit_string= \"\"\n",
    "    for _ in range(bits):\n",
    "        frac_part *= 2\n",
    "        bit = int(frac_part)\n",
    "        bit_string += str(bit)\n",
    "        frac_part -= bit\n",
    "\n",
    "    return bit_string\n",
    "print(get_fractional_bits(math.pi, 8))"
   ]
  },
  {
   "cell_type": "markdown",
   "metadata": {},
   "source": [
    "Take 0.414 (from √2) as our example:\n",
    "\n",
    "Step 1: First Bit\n",
    "Start: 0.414.\n",
    "Multiply by 2: 0.414 × 2 = 0.828.\n",
    "Check: Is 0.828 ≥ 1? No, it’s less than 1.\n",
    "Write: 0.\n",
    "Subtract: 0.828 - 0 = 0.828 (no change since we wrote 0).\n",
    "What this means: 0.414 is less than 0.5 (half), so the first bit is 0.\n",
    "Step 2: Second Bit\n",
    "Take what’s left: 0.828.\n",
    "Multiply by 2: 0.828 × 2 = 1.656.\n",
    "Check: Is 1.656 ≥ 1? Yes.\n",
    "Write: 1.\n",
    "Subtract: 1.656 - 1 = 0.656.\n",
    "What this means: The leftover 0.828 is more than 0.5 (since 1.656 > 1), so the second bit is 1. Subtracting 1 “resets” us to the new remainder (0.656).\n",
    "Step 3: Third Bit\n",
    "Take what’s left: 0.656.\n",
    "Multiply by 2: 0.656 × 2 = 1.312.\n",
    "Check: Is 1.312 ≥ 1? Yes.\n",
    "Write: 1.\n",
    "Subtract: 1.312 - 1 = 0.312.\n",
    "What this means: The leftover 0.656 is more than 0.5, so the third bit is 1."
   ]
  },
  {
   "cell_type": "code",
   "execution_count": 1447,
   "metadata": {},
   "outputs": [],
   "source": [
    "def compute_sqrt_fractional_bits(prime, bits=32):\n",
    "    \"\"\"Compute the square root and extract the first 'bits' bits of the fractional part.\"\"\"\n",
    "    sqrt_value = math.sqrt(prime)\n",
    "    return get_fractional_bits(sqrt_value, bits)"
   ]
  },
  {
   "cell_type": "code",
   "execution_count": 1448,
   "metadata": {},
   "outputs": [],
   "source": [
    "#Get the first 100 prime numbers\n",
    "primes = get_first_n_primes(10)"
   ]
  },
  {
   "cell_type": "code",
   "execution_count": 1449,
   "metadata": {},
   "outputs": [
    {
     "name": "stdout",
     "output_type": "stream",
     "text": [
      "First 32 bits of fractional parts of square roots of the first 100 primes:\n",
      "  1: √2   = 1.41421356   → 01101010000010011110011001100111\n",
      "  2: √3   = 1.73205081   → 10111011011001111010111010000101\n",
      "  3: √5   = 2.23606798   → 00111100011011101111001101110010\n",
      "  4: √7   = 2.64575131   → 10100101010011111111010100111010\n",
      "  5: √11  = 3.31662479   → 01010001000011100101001001111111\n",
      "  6: √13  = 3.60555128   → 10011011000001010110100010001100\n",
      "  7: √17  = 4.12310563   → 00011111100000111101100110101011\n",
      "  8: √19  = 4.35889894   → 01011011111000001100110100011001\n",
      "  9: √23  = 4.79583152   → 11001011101110111001110101011101\n",
      " 10: √29  = 5.38516481   → 01100010100110100010100100101010\n"
     ]
    }
   ],
   "source": [
    "# Calculate and display the fractional bits of their square roots\n",
    "print(\"First 32 bits of fractional parts of square roots of the first 100 primes:\")\n",
    "for i, prime in enumerate(primes, 1):\n",
    "    sqrt_value = math.sqrt(prime)\n",
    "    fractional_bits = compute_sqrt_fractional_bits(prime)\n",
    "    print(f\"{i:3}: √{prime:<3} = {sqrt_value:<12.8f} → {fractional_bits}\")"
   ]
  },
  {
   "attachments": {},
   "cell_type": "markdown",
   "metadata": {},
   "source": [
    "# Task 6: Proof of Work\n",
    "This task finds English words with the greatest number of leading zero bits in their SHA256 hash digest."
   ]
  },
  {
   "cell_type": "code",
   "execution_count": 1450,
   "metadata": {},
   "outputs": [],
   "source": [
    "import os\n",
    "import urllib.request\n",
    "import hashlib"
   ]
  },
  {
   "attachments": {},
   "cell_type": "markdown",
   "metadata": {},
   "source": [
    "### Step 1: Set up dictionary download\n",
    "First, we'll define our dictionary source and prepare to download an English dictionary."
   ]
  },
  {
   "cell_type": "code",
   "execution_count": 1451,
   "metadata": {},
   "outputs": [],
   "source": [
    "# Set up constants\n",
    "dictionary_url = \"https://raw.githubusercontent.com/dwyl/english-words/master/words.txt\"\n",
    "dictionary_file = \"english_words.txt\""
   ]
  },
  {
   "cell_type": "code",
   "execution_count": 1452,
   "metadata": {},
   "outputs": [
    {
     "name": "stdout",
     "output_type": "stream",
     "text": [
      "Using existing dictionary: english_words.txt\n"
     ]
    }
   ],
   "source": [
    "# Check if we need to download the dictionary\n",
    "if not os.path.exists(dictionary_file):\n",
    "    print(f\"Downloading dictionary from {dictionary_url}...\")\n",
    "    with urllib.request.urlopen(dictionary_url) as response, open(dictionary_file, 'wb') as f:\n",
    "        f.write(response.read())\n",
    "    print(f\"Dictionary saved to {dictionary_file}\")\n",
    "else:\n",
    "    print(f\"Using existing dictionary: {dictionary_file}\")"
   ]
  },
  {
   "attachments": {},
   "cell_type": "markdown",
   "metadata": {},
   "source": [
    "### Step 2: Load the dictionary words\n",
    "Now we'll read the dictionary file and create a list of all English words."
   ]
  },
  {
   "cell_type": "code",
   "execution_count": 1453,
   "metadata": {},
   "outputs": [
    {
     "name": "stdout",
     "output_type": "stream",
     "text": [
      "Dictionary contains 466550 words\n"
     ]
    }
   ],
   "source": [
    "# Load the words from file\n",
    "with open(dictionary_file, 'r', encoding='utf-8', errors='ignore') as f:\n",
    "    words = [word.strip().lower() for word in f if word.strip()]\n",
    "print(f\"Dictionary contains {len(words)} words\")"
   ]
  },
  {
   "attachments": {},
   "cell_type": "markdown",
   "metadata": {},
   "source": [
    "### Step 3A: Initialize the word processing\n",
    "First, we'll create an empty list to store the results of our hash calculations."
   ]
  },
  {
   "cell_type": "code",
   "execution_count": 1454,
   "metadata": {},
   "outputs": [],
   "source": [
    "# Create a list to store word information\n",
    "word_zeros = []"
   ]
  },
  {
   "attachments": {},
   "cell_type": "markdown",
   "metadata": {},
   "source": [
    "### Step 3B: Calculate SHA256 hash for each word\n",
    "Now we'll iterate through each word in our dictionary, calculate its SHA256 hash, and track our progress."
   ]
  },
  {
   "cell_type": "code",
   "execution_count": 1455,
   "metadata": {},
   "outputs": [
    {
     "name": "stdout",
     "output_type": "stream",
     "text": [
      "Processed 0 words...\n",
      "Processed 100000 words...\n",
      "Processed 200000 words...\n",
      "Processed 300000 words...\n",
      "Processed 400000 words...\n"
     ]
    }
   ],
   "source": [
    "# Process each word and calculate its hash\n",
    "for i, word in enumerate(words):\n",
    "    # Show progress every 10,000 words for monitoring\n",
    "    if i % 100000 == 0:\n",
    "        print(f\"Processed {i} words...\")\n",
    "    \n",
    "    # Calculate SHA256 hash of the word\n",
    "    word_hash = hashlib.sha256(word.encode('utf-8')).digest()\n",
    "    \n",
    "    # We'll count the zeros in the next step\n",
    "    # Store the word, its zeros (calculated next), and the hex representation\n",
    "    # of the hash for display purposes\n",
    "    word_zeros.append((word, 0, word_hash.hex()))  # Placeholder zero count for now"
   ]
  },
  {
   "attachments": {},
   "cell_type": "markdown",
   "metadata": {},
   "source": [
    "### Step 3C: Count leading zeros in each hash\n",
    "For each word's hash, we'll count how many leading zero bits it has before the first '1' bit.\n",
    "This is the key measurement for our proof of work challenge."
   ]
  },
  {
   "cell_type": "code",
   "execution_count": 1456,
   "metadata": {},
   "outputs": [
    {
     "name": "stdout",
     "output_type": "stream",
     "text": [
      "Counted zeros for 0 words...\n",
      "Counted zeros for 100000 words...\n",
      "Counted zeros for 200000 words...\n",
      "Counted zeros for 300000 words...\n",
      "Counted zeros for 400000 words...\n"
     ]
    }
   ],
   "source": [
    "# Count leading zeros in each hash and update our data\n",
    "for i, (word, _, hash_hex) in enumerate(word_zeros):\n",
    "    # Get the binary hash again\n",
    "    word_hash = bytes.fromhex(hash_hex)\n",
    "    \n",
    "    # Count leading zeros\n",
    "    count = 0\n",
    "    for byte in word_hash:\n",
    "        if byte == 0:\n",
    "            # If the entire byte is zero (00000000), add 8 to our count\n",
    "            count += 8\n",
    "        else:\n",
    "            # For the first non-zero byte, count leading zeros before first 1\n",
    "            binary = bin(byte)[2:].zfill(8)  # Convert to binary and ensure 8 digits\n",
    "            count += binary.index('1')  # Find position of first '1'\n",
    "            break  # Stop counting after finding first '1'\n",
    "    \n",
    "    # Update the count in our data\n",
    "    word_zeros[i] = (word, count, hash_hex)\n",
    "    \n",
    "    # Optional: show progress for this step too\n",
    "    if i % 100000 == 0:\n",
    "        print(f\"Counted zeros for {i} words...\")"
   ]
  },
  {
   "cell_type": "code",
   "execution_count": 1457,
   "metadata": {},
   "outputs": [
    {
     "name": "stdout",
     "output_type": "stream",
     "text": [
      "\n",
      "Words with most leading zero bits in SHA256 hash:\n",
      "============================================================\n",
      "Word            Leading Zeros   Hash (start)\n",
      "------------------------------------------------------------\n",
      "goaltenders     18              00002e68c9d3d1fc...\n",
      "evander         16              0000a7752539107d...\n",
      "guilefulness    16              0000d79e1c6964e6...\n",
      "mismatchment    16              0000bb6ede9f29a0...\n",
      "duppa           15              0001d81b1189c6a3...\n",
      "grady           15              00015674232002d9...\n",
      "mountable       15              00019347bddcfe0c...\n",
      "palala          15              0001c4dbc2962bc9...\n",
      "suavely         15              00014bf337341909...\n",
      "alpestral       14              0002e77383f5798c...\n"
     ]
    }
   ],
   "source": [
    "# Display just the top 10 results\n",
    "print(\"\\nWords with most leading zero bits in SHA256 hash:\")\n",
    "print(\"=\" * 60)\n",
    "print(f\"{'Word':<15} {'Leading Zeros':<15} {'Hash (start)'}\")\n",
    "print(\"-\" * 60)\n",
    "\n",
    "# Sort the results if not already sorted\n",
    "word_zeros.sort(key=lambda x: x[1], reverse=True)\n",
    "\n",
    "# Show top 10\n",
    "for word, zeros, hash_hex in word_zeros[:10]:\n",
    "    print(f\"{word:<15} {zeros:<15} {hash_hex[:16]}...\")"
   ]
  },
  {
   "attachments": {},
   "cell_type": "markdown",
   "metadata": {},
   "source": [
    "### Understanding the leading zero counting process:\n",
    "\n",
    "SHA256 produces a 32-byte (256-bit) hash. We count zeros at the beginning until we find the first '1' bit.\n",
    "\n",
    "Examples:\n",
    "- If the hash starts with the byte `00000000`, that's 8 zero bits.\n",
    "- If it continues with several `00000000` bytes, we add 8 for each.\n",
    "- When we find a non-zero byte (e.g., `00100000`), we count the zeros at the start (2 in this example).\n",
    "- Then we stop counting.\n",
    "\n",
    "This counting process is exactly what cryptocurrency miners do when looking for hashes that start with a certain number of zeros."
   ]
  }
 ],
 "metadata": {
  "kernelspec": {
   "display_name": "base",
   "language": "python",
   "name": "python3"
  },
  "language_info": {
   "codemirror_mode": {
    "name": "ipython",
    "version": 3
   },
   "file_extension": ".py",
   "mimetype": "text/x-python",
   "name": "python",
   "nbconvert_exporter": "python",
   "pygments_lexer": "ipython3",
   "version": "3.12.7"
  }
 },
 "nbformat": 4,
 "nbformat_minor": 2
}
